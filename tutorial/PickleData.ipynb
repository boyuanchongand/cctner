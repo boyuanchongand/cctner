{
 "cells": [
  {
   "cell_type": "markdown",
   "metadata": {},
   "source": [
    "# 1. Prepare"
   ]
  },
  {
   "cell_type": "code",
   "execution_count": 1,
   "metadata": {
    "collapsed": true
   },
   "outputs": [],
   "source": [
    "import sys\n",
    "rootPath = '/Users/floyd/Desktop/Research/NER-CRF/cctner/'\n",
    "sys.path.append('/Users/floyd/Desktop/Research/NER-CRF/cctner')\n",
    "\n",
    "\n",
    "from text import ChineseClinicalText as CCT\n",
    "from dataset import batch1, batch2, generateOriAn\n",
    "import os"
   ]
  },
  {
   "cell_type": "markdown",
   "metadata": {},
   "source": [
    "# 2. Get All Files"
   ]
  },
  {
   "cell_type": "code",
   "execution_count": 24,
   "metadata": {},
   "outputs": [
    {
     "name": "stdout",
     "output_type": "stream",
     "text": [
      "[('一般项目', 300), ('病史特点', 300), ('诊疗经过', 299), ('出院情况', 299)]\n"
     ]
    },
    {
     "data": {
      "text/plain": [
       "[{'annotedFilePath': '/Users/floyd/Desktop/Research/NER-CRF/cctner/dataset/annoted/batch1/一般项目/一般项目-1.txt',\n",
       "  'originalFilePath': '/Users/floyd/Desktop/Research/NER-CRF/cctner/dataset/annoted/batch1/一般项目/一般项目-1.txtoriginal.txt'},\n",
       " {'annotedFilePath': '/Users/floyd/Desktop/Research/NER-CRF/cctner/dataset/annoted/batch1/一般项目/一般项目-10.txt',\n",
       "  'originalFilePath': '/Users/floyd/Desktop/Research/NER-CRF/cctner/dataset/annoted/batch1/一般项目/一般项目-10.txtoriginal.txt'},\n",
       " {'annotedFilePath': '/Users/floyd/Desktop/Research/NER-CRF/cctner/dataset/annoted/batch1/一般项目/一般项目-100.txt',\n",
       "  'originalFilePath': '/Users/floyd/Desktop/Research/NER-CRF/cctner/dataset/annoted/batch1/一般项目/一般项目-100.txtoriginal.txt'}]"
      ]
     },
     "execution_count": 24,
     "metadata": {},
     "output_type": "execute_result"
    }
   ],
   "source": [
    "pathDict = generateOriAn(**batch1['dataInput'])\n",
    "print([(k, len(pathDict[k])) for k in pathDict])\n",
    "pathDict['一般项目'][:3]"
   ]
  },
  {
   "cell_type": "code",
   "execution_count": 26,
   "metadata": {},
   "outputs": [
    {
     "name": "stdout",
     "output_type": "stream",
     "text": [
      "[('text', 52)]\n"
     ]
    },
    {
     "data": {
      "text/plain": [
       "[{'annotedFilePath': '/Users/floyd/Desktop/Research/NER-CRF/cctner/dataset/annoted/batch2/text/text10_StandardFormat.txt',\n",
       "  'originalFilePath': '/Users/floyd/Desktop/Research/NER-CRF/cctner/dataset/annoted/batch2/text/text10.txt'},\n",
       " {'annotedFilePath': '/Users/floyd/Desktop/Research/NER-CRF/cctner/dataset/annoted/batch2/text/text11_StandardFormat.txt',\n",
       "  'originalFilePath': '/Users/floyd/Desktop/Research/NER-CRF/cctner/dataset/annoted/batch2/text/text11.txt'},\n",
       " {'annotedFilePath': '/Users/floyd/Desktop/Research/NER-CRF/cctner/dataset/annoted/batch2/text/text12_StandardFormat.txt',\n",
       "  'originalFilePath': '/Users/floyd/Desktop/Research/NER-CRF/cctner/dataset/annoted/batch2/text/text12.txt'}]"
      ]
     },
     "execution_count": 26,
     "metadata": {},
     "output_type": "execute_result"
    }
   ],
   "source": [
    "pathDict = generateOriAn(**batch2['dataInput'])\n",
    "print([(k, len(pathDict[k])) for k in pathDict])\n",
    "pathDict['text'][:3]"
   ]
  },
  {
   "cell_type": "markdown",
   "metadata": {},
   "source": [
    "# 3. Get All CCTs in a Dictionary"
   ]
  },
  {
   "cell_type": "code",
   "execution_count": 27,
   "metadata": {
    "scrolled": true
   },
   "outputs": [
    {
     "name": "stdout",
     "output_type": "stream",
     "text": [
      "Time Consumption:  2.0546417333333324 mins\n"
     ]
    }
   ],
   "source": [
    "import time\n",
    "btime = time.clock()\n",
    "timeConsmpt = []\n",
    "\n",
    "batch = batch2\n",
    "pathDict = generateOriAn(**batch['dataInput'])\n",
    "CCTDict = {}\n",
    "\n",
    "for filename in pathDict:\n",
    "    CCTDict[filename] = []\n",
    "    for cctPathDict in pathDict[filename]:\n",
    "        #print(cctPathDict['originalFilePath'])\n",
    "        bbtime = time.clock()\n",
    "        cct = CCT(batch, **cctPathDict)\n",
    "        cct.execute()\n",
    "        cct.getAnnotedEntities('RTag')\n",
    "        cct.corpAnnotation('RTag')\n",
    "        cct.getAnnotedEntities('ETag')\n",
    "        cct.corpAnnotation('ETag')\n",
    "        CCTDict[filename].append(cct)\n",
    "        eetime = time.clock()     \n",
    "        timeConsmpt.append(eetime - bbtime)\n",
    "        \n",
    "etime = time.clock()\n",
    "\n",
    "print('Time Consumption: ', (etime - btime)/60,'mins')"
   ]
  },
  {
   "cell_type": "code",
   "execution_count": 28,
   "metadata": {},
   "outputs": [
    {
     "data": {
      "text/plain": [
       "<matplotlib.axes._subplots.AxesSubplot at 0x127c0b7f0>"
      ]
     },
     "execution_count": 28,
     "metadata": {},
     "output_type": "execute_result"
    },
    {
     "data": {
      "image/png": "[encoded data removed]",
      "text/plain": [
       "<matplotlib.figure.Figure at 0x127b894a8>"
      ]
     },
     "metadata": {},
     "output_type": "display_data"
    }
   ],
   "source": [
    "%matplotlib inline\n",
    "import pandas as pd\n",
    "\n",
    "Time = pd.Series(timeConsmpt)\n",
    "Time.plot(figsize=(12,3))"
   ]
  },
  {
   "cell_type": "markdown",
   "metadata": {},
   "source": [
    "# 4. Serialize CCT to Pickle"
   ]
  },
  {
   "cell_type": "code",
   "execution_count": 29,
   "metadata": {},
   "outputs": [
    {
     "name": "stdout",
     "output_type": "stream",
     "text": [
      "2018-04-04\n"
     ]
    }
   ],
   "source": [
    "import pickle\n",
    "import os\n",
    "batch = batch2\n",
    "\n",
    "from datetime import datetime\n",
    "now = datetime.now()\n",
    "date = now.date()\n",
    "print(date)\n",
    "rootPath = batch['dataInput']['rootPath']\n",
    "pkPath = rootPath + 'pkldata/'+ batch['name'] + '-' + str(date)\n",
    "try:\n",
    "    os.mkdir(pkPath)\n",
    "except:\n",
    "    pass\n",
    "\n",
    "with open(pkPath + '/CCT_Dict'+'.p', 'wb') as handle:\n",
    "    pickle.dump(CCTDict, handle)\n",
    "\n",
    "with open(pkPath + '/CCT_Log' +'.p', 'wb') as handle:\n",
    "    pickle.dump([Time, etime, btime ], handle)"
   ]
  },
  {
   "cell_type": "markdown",
   "metadata": {},
   "source": [
    "# 5. Summary as a Function"
   ]
  },
  {
   "cell_type": "code",
   "execution_count": 30,
   "metadata": {
    "collapsed": true
   },
   "outputs": [],
   "source": [
    "def annoPickle(batch):\n",
    "    \n",
    "    pathDict = generateOriAn(**batch['dataInput'])\n",
    "    CCTDict = {}\n",
    "\n",
    "    for filename in pathDict:\n",
    "        CCTDict[filename] = []\n",
    "        for cctPathDict in pathDict[filename]:\n",
    "            #print(cctPathDict['originalFilePath'])\n",
    "            bbtime = time.clock()\n",
    "            cct = CCT(batch, **cctPathDict)\n",
    "            cct.execute()\n",
    "            cct.getAnnotedEntities('RTag')\n",
    "            cct.corpAnnotation('RTag')\n",
    "            cct.getAnnotedEntities('ETag')\n",
    "            cct.corpAnnotation('ETag')\n",
    "            CCTDict[filename].append(cct)\n",
    "            eetime = time.clock()     \n",
    "            timeConsmpt.append(eetime - bbtime)\n",
    "\n",
    "    etime = time.clock()\n",
    "    \n",
    "    Time = pd.Series(timeConsmpt)\n",
    "    now = datetime.now()\n",
    "    date = now.date()\n",
    "    print(date)\n",
    "    rootPath = batch['dataInput']['rootPath']\n",
    "    pkPath = rootPath + 'pkldata/'+ batch['name'] + '-' + str(date)\n",
    "    \n",
    "    try:\n",
    "        os.mkdir(pkPath)\n",
    "    except:\n",
    "        pass\n",
    "\n",
    "    with open(pkPath + '/CCT_Dict'+'.p', 'wb') as handle:\n",
    "        pickle.dump(CCTDict, handle)\n",
    "\n",
    "    with open(pkPath + '/CCT_Log' +'.p', 'wb') as handle:\n",
    "        pickle.dump([Time, etime, btime ], handle)"
   ]
  },
  {
   "cell_type": "code",
   "execution_count": 31,
   "metadata": {},
   "outputs": [
    {
     "name": "stdout",
     "output_type": "stream",
     "text": [
      "2018-04-04\n"
     ]
    }
   ],
   "source": [
    "annoPickle(batch1)"
   ]
  }
 ],
 "metadata": {
  "anaconda-cloud": {},
  "kernelspec": {
   "display_name": "Python 3",
   "language": "python",
   "name": "python3"
  },
  "language_info": {
   "codemirror_mode": {
    "name": "ipython",
    "version": 3
   },
   "file_extension": ".py",
   "mimetype": "text/x-python",
   "name": "python",
   "nbconvert_exporter": "python",
   "pygments_lexer": "ipython3",
   "version": "3.6.4"
  }
 },
 "nbformat": 4,
 "nbformat_minor": 1
}
