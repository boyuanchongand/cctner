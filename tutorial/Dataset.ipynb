{
 "cells": [
  {
   "cell_type": "markdown",
   "metadata": {},
   "source": [
    "# Batch1\n",
    "\n",
    "---\n",
    "\n",
    "The raw data comes from CCKS2017\n",
    "\n",
    "---"
   ]
  },
  {
   "cell_type": "code",
   "execution_count": 1,
   "metadata": {
    "collapsed": true
   },
   "outputs": [],
   "source": [
    "import os\n",
    "\n",
    "\n",
    "batch1 = dict(name = 'CCKS',\n",
    "              dataInput = dict(rootPath = '/Users/floyd/Desktop/Research/NER-CRF/cctner/', \n",
    "              fpath = 'dataset/annoted/batch1/',\n",
    "              filenames= ['一般项目', '病史特点', '诊疗经过', '出院情况'],\n",
    "              orig_iden = '.txtoriginal.txt',\n",
    "              anno_iden = '.txt'),\n",
    "              dataAnno = dict(sep = '\\t',\n",
    "                              fLabel = {'症状和体征': 'Sy','身体部位': 'Bo',\n",
    "                                        '检查和检验': 'Ch','治疗': 'Tr', '疾病和诊断': 'Si'},\n",
    "                              start = 0))\n"
   ]
  },
  {
   "cell_type": "code",
   "execution_count": 3,
   "metadata": {},
   "outputs": [
    {
     "data": {
      "text/plain": [
       "[{'annotedFilePath': '/Users/floyd/Desktop/Research/NER-CRF/cctner/dataset/annoted/batch1/出院情况/出院情况-1.txt',\n",
       "  'originalFilePath': '/Users/floyd/Desktop/Research/NER-CRF/cctner/dataset/annoted/batch1/出院情况/出院情况-1.txtoriginal.txt'},\n",
       " {'annotedFilePath': '/Users/floyd/Desktop/Research/NER-CRF/cctner/dataset/annoted/batch1/出院情况/出院情况-10.txt',\n",
       "  'originalFilePath': '/Users/floyd/Desktop/Research/NER-CRF/cctner/dataset/annoted/batch1/出院情况/出院情况-10.txtoriginal.txt'},\n",
       " {'annotedFilePath': '/Users/floyd/Desktop/Research/NER-CRF/cctner/dataset/annoted/batch1/出院情况/出院情况-100.txt',\n",
       "  'originalFilePath': '/Users/floyd/Desktop/Research/NER-CRF/cctner/dataset/annoted/batch1/出院情况/出院情况-100.txtoriginal.txt'},\n",
       " {'annotedFilePath': '/Users/floyd/Desktop/Research/NER-CRF/cctner/dataset/annoted/batch1/出院情况/出院情况-101.txt',\n",
       "  'originalFilePath': '/Users/floyd/Desktop/Research/NER-CRF/cctner/dataset/annoted/batch1/出院情况/出院情况-101.txtoriginal.txt'},\n",
       " {'annotedFilePath': '/Users/floyd/Desktop/Research/NER-CRF/cctner/dataset/annoted/batch1/出院情况/出院情况-102.txt',\n",
       "  'originalFilePath': '/Users/floyd/Desktop/Research/NER-CRF/cctner/dataset/annoted/batch1/出院情况/出院情况-102.txtoriginal.txt'}]"
      ]
     },
     "execution_count": 3,
     "metadata": {},
     "output_type": "execute_result"
    }
   ],
   "source": [
    "import os\n",
    "\n",
    "def generateOriAn(fpath, filenames, orig_iden, anno_iden, rootPath):\n",
    "    OriAn = dict()\n",
    "    for filename in filenames:\n",
    "        path = rootPath+fpath+filename\n",
    "        L =  [i for i in os.listdir(path) if orig_iden in i or anno_iden in i]\n",
    "        Orig = [i for i in L if orig_iden in i]\n",
    "        Anno = [i for i in L if anno_iden in i]\n",
    "        if len(Orig) == len(L)/2:\n",
    "            Anno = [i for i in L if i not in Orig]\n",
    "        elif len(Anno) == len(L)/2:\n",
    "            Orig = [i for i in L if i not in Anno]\n",
    "        else:\n",
    "            print('Wrong !!!')\n",
    "\n",
    "        assert len(Orig) == len(Anno)   \n",
    "        \n",
    "        d_orig = {}\n",
    "        for i in Orig:\n",
    "            d_orig[i.replace(orig_iden, '')] = i\n",
    "            \n",
    "        d_anno = {}\n",
    "        for i in Anno:\n",
    "            d_anno[i.replace(anno_iden, '')] = i\n",
    "        assert d_anno.keys() == d_orig.keys()\n",
    "        \n",
    "        OriAn_L = []\n",
    "        for k in d_anno:\n",
    "            OriAn_L.append({'originalFilePath':path +'/'+ d_orig[k], \n",
    "                            'annotedFilePath' :path +'/'+ d_anno[k]})\n",
    "        OriAn[filename] =  OriAn_L\n",
    "    return OriAn\n",
    "\n",
    "batch = batch1\n",
    "d = generateOriAn(**batch['dataInput'])\n",
    "d['出院情况'][:5]"
   ]
  },
  {
   "cell_type": "markdown",
   "metadata": {},
   "source": [
    "# Batch2\n",
    "\n",
    "\n",
    "---\n",
    "\n",
    "The raw data comes from Luohu Hospital.\n",
    "\n",
    "Annotated by researchers from SRIBD.\n",
    "\n",
    "----"
   ]
  },
  {
   "cell_type": "code",
   "execution_count": 4,
   "metadata": {},
   "outputs": [
    {
     "data": {
      "text/plain": [
       "{'dataAnno': {'fLabel': {'不确定': 'unct',\n",
       "   '检查项目': 'Ch',\n",
       "   '治疗手段': 'Tr',\n",
       "   '疾病名称': 'Si',\n",
       "   '疾病类型': 'DT',\n",
       "   '症状': 'Sy',\n",
       "   '身体部位以及器官': 'Bo'},\n",
       "  'sep': '\\t',\n",
       "  'start': 1},\n",
       " 'dataInput': {'anno_iden': '_StandardFormat.txt',\n",
       "  'filenames': ['text'],\n",
       "  'fpath': 'dataset/annoted/batch2/',\n",
       "  'orig_iden': '.txt',\n",
       "  'rootPath': '/Users/floyd/Desktop/Research/NER-CRF/cctner/'},\n",
       " 'name': 'LUOHU'}"
      ]
     },
     "execution_count": 4,
     "metadata": {},
     "output_type": "execute_result"
    }
   ],
   "source": [
    "batch2 = dict(name = 'LUOHU',\n",
    "              dataInput = dict(rootPath = '/Users/floyd/Desktop/Research/NER-CRF/cctner/',\n",
    "              fpath = 'dataset/annoted/batch2/',\n",
    "              filenames= ['text'],\n",
    "              orig_iden = '.txt',\n",
    "              anno_iden = '_StandardFormat.txt'),\n",
    "              dataAnno = dict(sep = '\\t',\n",
    "                              fLabel = {'症状': 'Sy', '身体部位以及器官': 'Bo',\n",
    "                                        '检查项目': 'Ch',\n",
    "                                        '治疗手段': 'Tr', '疾病名称': 'Si','疾病类型': 'DT',\n",
    "                                        '不确定'  : 'unct' },\n",
    "                              start = 1))\n",
    "\n",
    "batch2"
   ]
  },
  {
   "cell_type": "code",
   "execution_count": 5,
   "metadata": {},
   "outputs": [
    {
     "data": {
      "text/plain": [
       "[{'annotedFilePath': '/Users/floyd/Desktop/Research/NER-CRF/cctner/dataset/annoted/batch2/text/text10_StandardFormat.txt',\n",
       "  'originalFilePath': '/Users/floyd/Desktop/Research/NER-CRF/cctner/dataset/annoted/batch2/text/text10.txt'},\n",
       " {'annotedFilePath': '/Users/floyd/Desktop/Research/NER-CRF/cctner/dataset/annoted/batch2/text/text11_StandardFormat.txt',\n",
       "  'originalFilePath': '/Users/floyd/Desktop/Research/NER-CRF/cctner/dataset/annoted/batch2/text/text11.txt'},\n",
       " {'annotedFilePath': '/Users/floyd/Desktop/Research/NER-CRF/cctner/dataset/annoted/batch2/text/text12_StandardFormat.txt',\n",
       "  'originalFilePath': '/Users/floyd/Desktop/Research/NER-CRF/cctner/dataset/annoted/batch2/text/text12.txt'},\n",
       " {'annotedFilePath': '/Users/floyd/Desktop/Research/NER-CRF/cctner/dataset/annoted/batch2/text/text13_StandardFormat.txt',\n",
       "  'originalFilePath': '/Users/floyd/Desktop/Research/NER-CRF/cctner/dataset/annoted/batch2/text/text13.txt'},\n",
       " {'annotedFilePath': '/Users/floyd/Desktop/Research/NER-CRF/cctner/dataset/annoted/batch2/text/text14_StandardFormat.txt',\n",
       "  'originalFilePath': '/Users/floyd/Desktop/Research/NER-CRF/cctner/dataset/annoted/batch2/text/text14.txt'}]"
      ]
     },
     "execution_count": 5,
     "metadata": {},
     "output_type": "execute_result"
    }
   ],
   "source": [
    "batch = batch2\n",
    "d = generateOriAn(**batch['dataInput'])\n",
    "d['text'][:5]"
   ]
  },
  {
   "cell_type": "markdown",
   "metadata": {},
   "source": [
    "### For Batch2: Change Sep to `\\t`\n",
    "\n",
    "---\n",
    "\n",
    "CAUTIONS\n",
    "\n",
    "---"
   ]
  },
  {
   "cell_type": "code",
   "execution_count": 8,
   "metadata": {},
   "outputs": [],
   "source": [
    "for k in d:\n",
    "    for file_d in d[k]:\n",
    "        anno = file_d['annotedFilePath']\n",
    "        Lines = []\n",
    "        with open(anno, 'r') as f:\n",
    "            for i in f.readlines():\n",
    "                Lines.append(i.replace(' ', '\\t'))\n",
    "        with open(anno, 'w') as f:\n",
    "            for i in Lines:\n",
    "                f.write(i)"
   ]
  }
 ],
 "metadata": {
  "kernelspec": {
   "display_name": "Python 3",
   "language": "python",
   "name": "python3"
  },
  "language_info": {
   "codemirror_mode": {
    "name": "ipython",
    "version": 3
   },
   "file_extension": ".py",
   "mimetype": "text/x-python",
   "name": "python",
   "nbconvert_exporter": "python",
   "pygments_lexer": "ipython3",
   "version": "3.6.4"
  }
 },
 "nbformat": 4,
 "nbformat_minor": 2
}
