{
 "cells": [
  {
   "cell_type": "code",
   "execution_count": 22,
   "metadata": {
    "collapsed": true
   },
   "outputs": [],
   "source": [
    "import os\n",
    "import sys\n",
    "rootPath = '/Users/floyd/Desktop/Research/NER-CRF/cctner/'\n",
    "sys.path.append('/Users/floyd/Desktop/Research/NER-CRF/cctner')\n",
    "\n",
    "import pickle\n",
    "import random\n",
    "attrLable = {}\n",
    "attrLable['a'] = '_atom'\n",
    "attrLable['b'] = 'basicTag'\n",
    "attrLable['d'] = 'dictTag'\n",
    "attrLable['r'] = 'radical'\n",
    "attrLable['p'] = 'POSTag'\n",
    "attrLable['R'] = 'RTag'\n",
    "attrLable['E'] = 'ETag'\n"
   ]
  },
  {
   "cell_type": "markdown",
   "metadata": {},
   "source": [
    "---\n",
    "\n",
    "```shell\n",
    "$python train.py -m 1a -vec vec-50 -lstm lstm-8\n",
    "\n",
    "```\n",
    "\n",
    "\n",
    "\n",
    "```python\n",
    "trainDataPara = {'vect_cols': list(range(1,DIM + 1)),\n",
    "                 'Vector': True,\n",
    "                 'Vdim': 50,\n",
    "                 'attr_cols': ['_atom'],\n",
    "                 'tag_cols' : ['ETag'],\n",
    "                 'Path':'demo/train.txt'}\n",
    "\n",
    "```\n",
    "---"
   ]
  },
  {
   "cell_type": "code",
   "execution_count": 79,
   "metadata": {
    "scrolled": true
   },
   "outputs": [
    {
     "data": {
      "text/plain": [
       "{'arch': 2,\n",
       " 'attrs': ['a'],\n",
       " 'cols': ['_atom'],\n",
       " 'crfPara': {'-c': '5.0', '-f': '2', '-p': '4', '-t': None},\n",
       " 'crf_learnPath': 'crftools/crf_learn',\n",
       " 'crf_testPath': 'crftools/crf_test',\n",
       " 'evalTag': 'ETag',\n",
       " 'eval_cols': ['_atom',\n",
       "  1,\n",
       "  2,\n",
       "  3,\n",
       "  4,\n",
       "  5,\n",
       "  6,\n",
       "  7,\n",
       "  8,\n",
       "  9,\n",
       "  10,\n",
       "  11,\n",
       "  12,\n",
       "  13,\n",
       "  14,\n",
       "  15,\n",
       "  16,\n",
       "  17,\n",
       "  18,\n",
       "  19,\n",
       "  20,\n",
       "  21,\n",
       "  22,\n",
       "  23,\n",
       "  24,\n",
       "  25,\n",
       "  26,\n",
       "  27,\n",
       "  28,\n",
       "  29,\n",
       "  30,\n",
       "  31,\n",
       "  32,\n",
       "  33,\n",
       "  34,\n",
       "  35,\n",
       "  36,\n",
       "  37,\n",
       "  38,\n",
       "  39,\n",
       "  40,\n",
       "  41,\n",
       "  42,\n",
       "  43,\n",
       "  44,\n",
       "  45,\n",
       "  46,\n",
       "  47,\n",
       "  48,\n",
       "  49,\n",
       "  50,\n",
       "  'RTag'],\n",
       " 'lstm': {},\n",
       " 'modelPath1': 'models/2a-v50/model1',\n",
       " 'modelPath2': 'models/2a-v50/model2',\n",
       " 'paraPath': 'models/2a-v50/para.p',\n",
       " 'path': 'models/2a-v50',\n",
       " 'performPath': 'models/2a-v50/peformance.txt',\n",
       " 'tag_cols1': ['RTag'],\n",
       " 'tag_cols2': ['RTag', 'ETag'],\n",
       " 'template': 'template/template-v51',\n",
       " 'template1': 'template/template0',\n",
       " 'template2': 'template/template01',\n",
       " 'testDataPath1': 'models/2a-v50/output/testData1.txt',\n",
       " 'testDataPath2': 'models/2a-v50/output/testData2.txt',\n",
       " 'testDataResultPath1': 'models/2a-v50/output/testDataResult1.txt',\n",
       " 'testDataResultPath2': 'models/2a-v50/output/testDataResult2.txt',\n",
       " 'trainDataPath1': 'models/2a-v50/output/trainData1.txt',\n",
       " 'trainDataPath2': 'models/2a-v50/output/trainData2.txt',\n",
       " 'vect': {'Vdim': 50,\n",
       "  'Vector': True,\n",
       "  'vect_cols': [1,\n",
       "   2,\n",
       "   3,\n",
       "   4,\n",
       "   5,\n",
       "   6,\n",
       "   7,\n",
       "   8,\n",
       "   9,\n",
       "   10,\n",
       "   11,\n",
       "   12,\n",
       "   13,\n",
       "   14,\n",
       "   15,\n",
       "   16,\n",
       "   17,\n",
       "   18,\n",
       "   19,\n",
       "   20,\n",
       "   21,\n",
       "   22,\n",
       "   23,\n",
       "   24,\n",
       "   25,\n",
       "   26,\n",
       "   27,\n",
       "   28,\n",
       "   29,\n",
       "   30,\n",
       "   31,\n",
       "   32,\n",
       "   33,\n",
       "   34,\n",
       "   35,\n",
       "   36,\n",
       "   37,\n",
       "   38,\n",
       "   39,\n",
       "   40,\n",
       "   41,\n",
       "   42,\n",
       "   43,\n",
       "   44,\n",
       "   45,\n",
       "   46,\n",
       "   47,\n",
       "   48,\n",
       "   49,\n",
       "   50],\n",
       "  'vect_path': 'vector/vect-50.txt'}}"
      ]
     },
     "execution_count": 79,
     "metadata": {},
     "output_type": "execute_result"
    }
   ],
   "source": [
    "modelLabel = '2a'\n",
    "vect       = 'vect-50'\n",
    "lstm       = 'lstm-10'\n",
    "tmplt      = 'r-50'\n",
    "\n",
    "if vect:\n",
    "    assert vect[:5] == 'vect-'\n",
    "    \n",
    "if lstm:\n",
    "    assert lstm[:5] == 'lstm-'\n",
    "\n",
    "assert int(modelLabel[0]) == 2 or int(modelLabel[0]) == 1\n",
    "assert modelLabel[1] == 'a'\n",
    "\n",
    "p = 'template/'\n",
    "templatePath = {}\n",
    "templatePath[1] = [p + 'template0']\n",
    "templatePath[2] = [p + 'template1', p + 'template01' ]\n",
    "templatePath[3] = [p + 'template11']\n",
    "templatePath[4] = [p + 'templateFor5Tag']\n",
    "\n",
    "\n",
    "def genPara(modelLabel, vect = None, lstm = None):\n",
    "    para = {}\n",
    "    para['arch']  = int(modelLabel[0])\n",
    "    para['attrs'] = list(modelLabel)[1:]\n",
    "    para['cols']  = [attrLable[i] for i in para['attrs']]\n",
    "    para['path']  = 'models/'+ modelLabel\n",
    "    para['crf_learnPath'] = 'crftools/crf_learn'\n",
    "    para['crf_testPath']  = 'crftools/crf_test'\n",
    "    ## CRF Para\n",
    "    learn_params2 = {'-f': '2',\n",
    "                     '-c': '5.0',\n",
    "                     '-t': None,\n",
    "                     '-p': '4'}\n",
    "    para['crfPara'] = learn_params2\n",
    "\n",
    "    ## CRF Template\n",
    "    p = 'template/'\n",
    "    templatePath = {}\n",
    "    templatePath[1] = [p + 'template0']\n",
    "    templatePath[2] = [p + 'template01', p + 'template1' ]\n",
    "    templatePath[3] = [p + 'template11']\n",
    "    templatePath[4] = [p + 'templateFor5Tag']\n",
    "    templatePath['v']=[p + 'template-v51']\n",
    "    \n",
    "    para['vect'] = {}\n",
    "    if vect:\n",
    "        para['vect']['Vector']   = True\n",
    "        para['vect']['Vdim']     = int(vect.replace('vect-',''))\n",
    "        para['vect']['vect_cols']= list(range(1,para['vect']['Vdim'] + 1))\n",
    "        para['vect']['vect_path']= 'vector/'+ vect + '.txt'\n",
    "        \n",
    "        para['path'] += '-v'+str(para['vect']['Vdim'])\n",
    "        \n",
    "    para['lstm'] ={}\n",
    "    if lstm:\n",
    "        pass\n",
    "    \n",
    "    para['performPath']   = para['path'] + '/peformance.txt'\n",
    "    para['paraPath']  = para['path'] + '/para.p'\n",
    "    para['eval_cols'] = para['cols'].copy()\n",
    "    if para['arch'] == 1:\n",
    "        para['tag_cols'] = ['ETag']\n",
    "        para['trainDataPath'] = para['path'] + '/output/trainData.txt'\n",
    "        para['testDataPath']  = para['path'] + '/output/testData.txt'\n",
    "        para['testDataResultPath'] = para['path'] + '/output/testDataResult.txt'\n",
    "        para['modelPath'] = para['path'] + '/model'\n",
    "        para['evalTag']   = 'ETag'\n",
    "        para['template'] = templatePath[len(para['attrs'])][0]\n",
    "        if vect:\n",
    "            para['template'] = templatePath['v'][0]\n",
    "            para['eval_cols']+= para['vect']['vect_cols']\n",
    "            \n",
    "   \n",
    "    if para['arch'] == 2:\n",
    "        para['tag_cols1'] = ['RTag']\n",
    "        para['tag_cols2'] = ['RTag', 'ETag']\n",
    "        para['eval_cols'] = para['cols'].copy() + ['RTag']\n",
    "\n",
    "        para['trainDataPath1'] = para['path'] + '/output/trainData1.txt'\n",
    "        para['trainDataPath2'] = para['path'] + '/output/trainData2.txt'\n",
    "        para['testDataPath1']  = para['path'] + '/output/testData1.txt'\n",
    "        para['testDataPath2']  = para['path'] + '/output/testData2.txt'\n",
    "        para['testDataResultPath1'] = para['path'] + '/output/testDataResult1.txt'\n",
    "        para['testDataResultPath2'] = para['path'] + '/output/testDataResult2.txt'\n",
    "\n",
    "        para['modelPath1'] = para['path'] + '/model1'\n",
    "        para['modelPath2'] = para['path'] + '/model2'\n",
    "        para['evalTag']   = 'ETag'\n",
    "        para['template1'] = templatePath[len(para['cols'])][0]\n",
    "        para['template2'] = templatePath[len(para['cols']) + 1][0]\n",
    "        if vect:\n",
    "            para['template'] = templatePath['v'][0]\n",
    "            para['eval_cols']= para['cols'].copy()  + para['vect']['vect_cols'] + ['RTag']\n",
    "        \n",
    "    return para\n",
    "\n",
    "\n",
    "para = genPara(modelLabel, vect = vect)\n",
    "para"
   ]
  },
  {
   "cell_type": "code",
   "execution_count": 60,
   "metadata": {
    "collapsed": true
   },
   "outputs": [],
   "source": [
    "from loaddata import loadData, getTestData, getTrainData\n",
    "\n",
    "p = rootPath+'pkldata/2017-11-03/R_CCT_Dict.p'\n",
    "cctTrain, cctTest = loadData(p, 10)"
   ]
  },
  {
   "cell_type": "code",
   "execution_count": 61,
   "metadata": {
    "collapsed": true
   },
   "outputs": [],
   "source": [
    "getTrainData(cctTrain,\n",
    "             attr_cols = para['cols'], \n",
    "             tag_cols  = para['tag_cols'], \n",
    "             Path = 'train.txt',\n",
    "             )\n",
    "getTestData(cctTest,  attr_cols = para['cols'], Path = 'test.txt')"
   ]
  },
  {
   "cell_type": "code",
   "execution_count": null,
   "metadata": {
    "collapsed": true
   },
   "outputs": [],
   "source": [
    "from crftools import crf_learn\n",
    "import time \n",
    "\n",
    "learn_params2 = {'-f': '2',\n",
    "                 '-c': '5.0',\n",
    "                 '-t': None,\n",
    "                 '-p': '4'}\n",
    "\n",
    "btime = time.clock()\n",
    "\n",
    "crf_learn(crf_learn_path = para['learnPath'],\n",
    "          params         = learn_params2,\n",
    "          templatepath   = templatePath[len(para['attrs'])][0],\n",
    "          trainpath      = para['trainDataPath'],\n",
    "          modelname      = para['modelPath'])\n",
    "\n",
    "etime = time.clock()"
   ]
  },
  {
   "cell_type": "code",
   "execution_count": 11,
   "metadata": {},
   "outputs": [
    {
     "data": {
      "text/plain": [
       "[1, 2, 4, 5]"
      ]
     },
     "execution_count": 11,
     "metadata": {},
     "output_type": "execute_result"
    }
   ],
   "source": [
    "a= [1,2,4,5]\n",
    "a"
   ]
  },
  {
   "cell_type": "code",
   "execution_count": 17,
   "metadata": {},
   "outputs": [
    {
     "data": {
      "text/plain": [
       "1"
      ]
     },
     "execution_count": 17,
     "metadata": {},
     "output_type": "execute_result"
    }
   ],
   "source": [
    "a.pop()"
   ]
  },
  {
   "cell_type": "code",
   "execution_count": 36,
   "metadata": {},
   "outputs": [
    {
     "name": "stdout",
     "output_type": "stream",
     "text": [
      "['a', 'e']\n"
     ]
    }
   ],
   "source": [
    "import random\n",
    "\n",
    "foo = ['a', 'b', 'c', 'd', 'e']\n",
    "print(random.sample(foo, 2))"
   ]
  },
  {
   "cell_type": "code",
   "execution_count": null,
   "metadata": {
    "collapsed": true
   },
   "outputs": [],
   "source": []
  }
 ],
 "metadata": {
  "anaconda-cloud": {},
  "kernelspec": {
   "display_name": "Python 3",
   "language": "python",
   "name": "python3"
  },
  "language_info": {
   "codemirror_mode": {
    "name": "ipython",
    "version": 3
   },
   "file_extension": ".py",
   "mimetype": "text/x-python",
   "name": "python",
   "nbconvert_exporter": "python",
   "pygments_lexer": "ipython3",
   "version": "3.6.4"
  }
 },
 "nbformat": 4,
 "nbformat_minor": 1
}
