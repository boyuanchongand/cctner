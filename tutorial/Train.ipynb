{
 "cells": [
  {
   "cell_type": "code",
   "execution_count": 6,
   "metadata": {
    "collapsed": true
   },
   "outputs": [],
   "source": [
    "import os\n",
    "import \n",
    "attrLable = {}\n",
    "attrLable['a'] = '_atom'\n",
    "attrLable['b'] = 'basicTag'\n",
    "attrLable['d'] = 'dictTag'\n",
    "attrLable['r'] = 'radical'\n",
    "attrLable['p'] = 'POSTag'\n",
    "attrLable['R'] = 'RTag'\n",
    "attrLable['E'] = 'ETag'\n"
   ]
  },
  {
   "cell_type": "code",
   "execution_count": 7,
   "metadata": {
    "collapsed": false
   },
   "outputs": [
    {
     "data": {
      "text/plain": [
       "['a', 'b', 'd', 'p']"
      ]
     },
     "execution_count": 7,
     "metadata": {},
     "output_type": "execute_result"
    }
   ],
   "source": [
    "modelLabel = '1abdp'\n",
    "\n",
    "assert int(modelLabel[0]) == 2 or int(modelLabel[0]) == 1\n",
    "\n",
    "assert modelLabel[1] == 'a'\n",
    "\n",
    "p = 'template/'\n",
    "templatePath = {}\n",
    "templatePath[1] = [p + 'template0']\n",
    "templatePath[2] = [p + 'template1', p + 'template01' ]\n",
    "templatePath[3] = [p + 'template11']\n",
    "templatePath[4] = [p + 'templateFor5Tag']\n",
    "\n",
    "\n",
    "def genPara(modelLabel):\n",
    "    para = {}\n",
    "    para['arch']  = int(modelLabel[0])\n",
    "    para['attrs'] = list(modelLabel)[1:]\n",
    "    para['cols']  = [attrLable[i] for i in para['attrs']]\n",
    "    para['path']  = 'models/'+ modelLabel\n",
    "    \n",
    "    para['learnPath'] = 'crftools/crf_learn'\n",
    "    para['testPath']  = 'crftools/crf_test'\n",
    "    \n",
    "    if para['arch'] == 1:\n",
    "        para['trainCols'] = para['cols'] + ['ETag']\n",
    "        para['testCols']  = para['cols']\n",
    "        para['trainDataPath'] = para['path'] + '/output/trainData.txt'\n",
    "        para['testDataPath']  = para['path'] + '/output/textData.txt'\n",
    "        para['testDataResultPath'] = para['path'] + '/output/textResultData.txt'\n",
    "        para['modelPath'] = para['path'] + '/model'\n",
    "    if para['arch'] == 2:\n",
    "        para['trainDataPath1'] = para['path'] + '/output/trainData1.txt'\n",
    "        para['trainDataPath2'] = para['path'] + '/output/trainData2.txt'\n",
    "        para['testDataPath1']  = para['path'] + '/output/textData1.txt'\n",
    "        para['testDataPath2']  = para['path'] + '/output/textData2.txt'\n",
    "        para['testDataResultPath1'] = para['path'] + '/output/textResultData1.txt'\n",
    "        para['testDataResultPath2'] = para['path'] + '/output/textResultData2.txt'\n",
    "        para['modelPath1'] = para['path'] + '/model1'\n",
    "        para['modelPath2'] = para['path'] + '/model2'\n",
    "    \n",
    "    ## CRF Para\n",
    "    learn_params2 = {'-f': '2',\n",
    "                 '-c': '5.0',\n",
    "                 '-t': None,\n",
    "                 '-p': '4'}\n",
    "    para['crfPara'] = learn_params2\n",
    "\n",
    "    ## CRF Template\n",
    "    p = 'template/'\n",
    "    templatePath = {}\n",
    "    templatePath[1] = [p + 'template0']\n",
    "    templatePath[2] = [p + 'template1', p + 'template01' ]\n",
    "    templatePath[3] = [p + 'template11']\n",
    "    templatePath[4] = [p + 'templateFor5Tag']\n",
    "\n",
    "    para['template'] = templatePath[len(para['attrs'])][0]\n",
    "   \n",
    "    return para\n",
    "\n",
    "para = genPara(modelLabel)\n",
    "\n",
    "try:\n",
    "    os.mkdir(para['path'])\n",
    "    os.mkdir(para['path']+ '/output')\n",
    "except:\n",
    "    pass\n",
    "\n",
    "para['attrs']"
   ]
  },
  {
   "cell_type": "code",
   "execution_count": 23,
   "metadata": {
    "collapsed": false
   },
   "outputs": [],
   "source": [
    "from loaddata import loadData, getTestData, getTrainData\n",
    "\n",
    "pklDictPath = 'pkldata/2017-10-23/CCT_Dict.p'\n",
    "cctTrain, cctTest = loadData(pklDictPath, 10)"
   ]
  },
  {
   "cell_type": "code",
   "execution_count": 24,
   "metadata": {
    "collapsed": false
   },
   "outputs": [],
   "source": [
    "getTrainData(cctTrain,cols = para['trainCols'], Path = para['trainDataPath'])\n",
    "getTestData(cctTest,  cols = para['testCols'],  Path = para['testDataPath'])"
   ]
  },
  {
   "cell_type": "code",
   "execution_count": null,
   "metadata": {
    "collapsed": false
   },
   "outputs": [],
   "source": [
    "from crftools import crf_learn\n",
    "import time \n",
    "\n",
    "learn_params2 = {'-f': '2',\n",
    "                 '-c': '5.0',\n",
    "                 '-t': None,\n",
    "                 '-p': '4'}\n",
    "\n",
    "btime = time.clock()\n",
    "\n",
    "crf_learn(crf_learn_path = para['learnPath'],\n",
    "          params         = learn_params2,\n",
    "          templatepath   = templatePath[len(para['attrs'])][0],\n",
    "          trainpath      = para['trainDataPath'],\n",
    "          modelname      = para['modelPath'])\n",
    "\n",
    "etime = time.clock()"
   ]
  },
  {
   "cell_type": "code",
   "execution_count": null,
   "metadata": {
    "collapsed": true
   },
   "outputs": [],
   "source": []
  }
 ],
 "metadata": {
  "anaconda-cloud": {},
  "kernelspec": {
   "display_name": "Python [default]",
   "language": "python",
   "name": "python3"
  },
  "language_info": {
   "codemirror_mode": {
    "name": "ipython",
    "version": 3
   },
   "file_extension": ".py",
   "mimetype": "text/x-python",
   "name": "python",
   "nbconvert_exporter": "python",
   "pygments_lexer": "ipython3",
   "version": "3.5.2"
  }
 },
 "nbformat": 4,
 "nbformat_minor": 1
}
