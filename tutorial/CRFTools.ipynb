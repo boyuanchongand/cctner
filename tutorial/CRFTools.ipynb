{
 "cells": [
  {
   "cell_type": "code",
   "execution_count": 1,
   "metadata": {
    "collapsed": true
   },
   "outputs": [],
   "source": [
    "def dict2list(paramdict):\n",
    "    resultlist = []\n",
    "    for k, v in paramdict.items():\n",
    "        resultlist.append(k)\n",
    "        if v:\n",
    "            resultlist.append(v)\n",
    "    return resultlist\n",
    "\n",
    "\n",
    "def shell_invoke(args, sinput = None, soutput = None):\n",
    "    import subprocess\n",
    "    if sinput and soutput:\n",
    "        p = subprocess.Popen(args, stdin = sinput, stdout= soutput)\n",
    "    elif sinput:\n",
    "        p = subprocess.Popen(args, stdin=sinput, stdout=subprocess.PIPE)\n",
    "    elif soutput:\n",
    "        p = subprocess.Popen(args, stdin=subprocess.PIPE, stdout=soutput)\n",
    "    else:\n",
    "        p = subprocess.Popen(args, stdin=subprocess.PIPE, stdout=subprocess.PIPE)\n",
    "    result = p.communicate()\n",
    "    for robj in result:\n",
    "        if robj:\n",
    "            print(robj.decode(console_encoding))\n",
    "    return None\n",
    "\n",
    "\n",
    "def crf_learn(crf_learn_path = 'crftools/crf_learn',\n",
    "              params = None,\n",
    "              templatepath = 'template/template01',\n",
    "              trainpath = 'demotraingold',\n",
    "              modelname = 'tmptest'):\n",
    "\n",
    "    args = [crf_learn_path]\n",
    "    if params:\n",
    "        args += dict2list(params)\n",
    "    args += [templatepath, trainpath, modelname]\n",
    "    shell_invoke(args)\n",
    "\n",
    "\n",
    "def crf_test(crf_test_path = 'crftools/crf_test',\n",
    "             modelpath = None,\n",
    "             testfilepath = None,\n",
    "             resultpath = None):\n",
    "\n",
    "    if (not modelpath) or (not testfilepath) or (not resultpath):\n",
    "        return\n",
    "\n",
    "    args = [crf_test_path, '-v', '2', '-m', modelpath, testfilepath]\n",
    "    with open(resultpath, 'w') as fh_write:\n",
    "        shell_invoke(args, soutput = fh_write)"
   ]
  },
  {
   "cell_type": "code",
   "execution_count": 5,
   "metadata": {
    "collapsed": false
   },
   "outputs": [],
   "source": [
    "import time\n",
    "testPath = 'crftools/crf_test'\n",
    "inputPath = 'dev/demo.txt'\n",
    "outputPath = 'dev/demo_result.txt'\n",
    "modelPath = 'crftools/model3Tag'\n",
    "btime = time.clock()\n",
    "crf_test(crf_test_path=testPath,\n",
    "         modelpath=modelPath,\n",
    "         testfilepath=inputPath,\n",
    "         resultpath=outputPath)\n",
    "etime = time.clock()"
   ]
  },
  {
   "cell_type": "code",
   "execution_count": 6,
   "metadata": {
    "collapsed": false
   },
   "outputs": [
    {
     "data": {
      "text/plain": [
       "0.0063870000000000315"
      ]
     },
     "execution_count": 6,
     "metadata": {},
     "output_type": "execute_result"
    }
   ],
   "source": [
    "import time\n",
    "testPath = 'crftools/crf_test'\n",
    "inputPath = 'dev/demoRTag.txt'\n",
    "outputPath = 'dev/demoRTag_result.txt'\n",
    "modelPath = 'crftools/model4Tag'\n",
    "btime = time.clock()\n",
    "crf_test(crf_test_path=testPath,\n",
    "         modelpath=modelPath,\n",
    "         testfilepath=inputPath,\n",
    "         resultpath=outputPath)\n",
    "etime = time.clock()\n",
    "etime - btime"
   ]
  },
  {
   "cell_type": "code",
   "execution_count": null,
   "metadata": {
    "collapsed": true
   },
   "outputs": [],
   "source": []
  }
 ],
 "metadata": {
  "anaconda-cloud": {},
  "kernelspec": {
   "display_name": "Python [conda root]",
   "language": "python",
   "name": "conda-root-py"
  },
  "language_info": {
   "codemirror_mode": {
    "name": "ipython",
    "version": 3
   },
   "file_extension": ".py",
   "mimetype": "text/x-python",
   "name": "python",
   "nbconvert_exporter": "python",
   "pygments_lexer": "ipython3",
   "version": "3.5.2"
  }
 },
 "nbformat": 4,
 "nbformat_minor": 1
}
