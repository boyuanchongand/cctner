{
 "cells": [
  {
   "cell_type": "code",
   "execution_count": 1,
   "metadata": {
    "collapsed": true
   },
   "outputs": [],
   "source": [
    "import sys\n",
    "\n",
    "rootPath = '/Users/floyd/Desktop/Research/NER-CRF/cctner'\n",
    "sys.path.append('/Users/floyd/Desktop/Research/NER-CRF/cctner')"
   ]
  },
  {
   "cell_type": "code",
   "execution_count": 2,
   "metadata": {
    "collapsed": true
   },
   "outputs": [],
   "source": [
    "import string\n",
    "import re\n",
    "# Tags for the basic information\n",
    "\n",
    "def basicTags(word):\n",
    "    punStr = string.punctuation + '＂＃＄％＆＇（）＊＋，－／：；＜＝＞＠［＼］＾＿｀｛｜｝～｟｠｢｣､\\u3000、〃〈〉《》「」『』【】〔〕〖〗〘〙〚〛〜〝〞〟〰〾〿–—‘’‛“”„‟…‧﹏﹑﹔·！？｡。'\n",
    "    engReg = r'[A-Za-z]{1}'\n",
    "    if '%' in word or '%' in word:\n",
    "        return 'PERC'\n",
    "    elif re.match(r'[0-9]{1}', word):\n",
    "        return \"NUM\"\n",
    "    elif word in punStr:\n",
    "        return \"PUNC\"\n",
    "    elif word >= '\\u4e00' and word <= '\\u9fff':\n",
    "        return \"CHN\"\n",
    "    elif re.match(engReg, word):\n",
    "        return 'ENG'\n",
    "    #elif word in string.whitespace:\n",
    "        #return 'SPA'\n",
    "    elif word == '@':\n",
    "        return 'SPA'\n",
    "    else:\n",
    "        return 'OTHER'\n"
   ]
  },
  {
   "cell_type": "code",
   "execution_count": 3,
   "metadata": {
    "collapsed": true
   },
   "outputs": [],
   "source": [
    "def matrixPreparing(matrix):\n",
    "    matrix.sort(key = lambda x:len(x))\n",
    "    return matrix[::-1]\n",
    "\n",
    "# Medical Dictionary Tag\n",
    "def dictTags(word):\n",
    "    units = 'kBq kbq mg Mg UG Ug ug MG ml ML Ml GM iu IU u U g G l L cm CM mm s S T % % mol mml mmol MMOL HP hp mmHg umol ng'.split(\n",
    "        ' ')\n",
    "    chn_units = '毫升 毫克 单位 升 克 第 粒 颗粒 支 件 散 丸 瓶 袋 板 盒 合 包 贴 张 泡 国际单位 万 特充 个 分 次'.split(' ')\n",
    "    med_units = 'qd bid tid qid qh q2h q4h q6h qn qod biw hs am pm St DC prn sos ac pc gtt IM IV po iH'.split(' ')\n",
    "    all_units = units + chn_units + med_units\n",
    "\n",
    "    site_units = '上 下 左 右 间 片 部 内 外 前 侧 后'.split(' ')\n",
    "    sym_units = '大 小 增 减 多 少 升 降 高 低 宽 厚 粗 两 双 延 长 短 疼 痛 终 炎 咳'.split(' ')\n",
    "    part_units = '脑 心 肝 脾 肺 肾 胸 脏 口 腹 胆 眼 耳 鼻 颈 手 足 脚 指 壁 膜 管 窦 室 管 髋 头 骨 膝 肘 肢 腰 背 脊 腿 茎 囊 精 唇 咽'.split(' ')\n",
    "    break_units = '呈 示 见 伴 的 因'.split(' ')\n",
    "    more_units = '较 稍 约 频 偶 偏'.split(' ')\n",
    "    non_units = '无 不 非 未 否'.split(' ')\n",
    "    tr_units = '服 予 行'.split(' ')\n",
    "\n",
    "    all_units = matrixPreparing(all_units)\n",
    "    units = matrixPreparing(units)\n",
    "    chn_units = matrixPreparing(chn_units)\n",
    "    med_units = matrixPreparing(med_units)\n",
    "\n",
    "    if word in units:\n",
    "        return 'UNIT'\n",
    "    elif word in chn_units:\n",
    "        return 'CHN_UNIT'\n",
    "    elif word in med_units:\n",
    "        return 'MED_UNIT'\n",
    "    elif word in site_units:\n",
    "        return 'SITE_UNIT'\n",
    "    elif word in sym_units:\n",
    "        return 'SYM_UNIT'\n",
    "    elif word in part_units:\n",
    "        return 'PART_UNIT'\n",
    "    elif word in break_units:\n",
    "        return 'BREAK_UNIT'\n",
    "    elif word in more_units:\n",
    "        return 'more_UNIT'\n",
    "    elif word in non_units:\n",
    "        return 'NON_UNIT'\n",
    "    elif word in tr_units:\n",
    "        return 'TR_UNIT'\n",
    "    else:\n",
    "        return 'OTHER'"
   ]
  },
  {
   "cell_type": "code",
   "execution_count": 4,
   "metadata": {
    "collapsed": false
   },
   "outputs": [
    {
     "data": {
      "text/plain": [
       "'言'"
      ]
     },
     "execution_count": 4,
     "metadata": {},
     "output_type": "execute_result"
    }
   ],
   "source": [
    "from radical import Radical\n",
    "\n",
    "def radicalTags(atom):\n",
    "    if atom  >= '\\u4e00' and atom <= '\\u9fff':\n",
    "        radical = Radical()\n",
    "        rad = radical.get_radical(atom)\n",
    "        return rad\n",
    "    else:\n",
    "        return '-'\n",
    "\n",
    "radicalTags('譝')"
   ]
  },
  {
   "cell_type": "code",
   "execution_count": 5,
   "metadata": {
    "collapsed": false
   },
   "outputs": [
    {
     "data": {
      "text/plain": [
       "'言'"
      ]
     },
     "execution_count": 5,
     "metadata": {},
     "output_type": "execute_result"
    }
   ],
   "source": [
    "radicalTags('譝')"
   ]
  },
  {
   "cell_type": "code",
   "execution_count": 6,
   "metadata": {
    "collapsed": false
   },
   "outputs": [
    {
     "data": {
      "text/plain": [
       "'-'"
      ]
     },
     "execution_count": 6,
     "metadata": {},
     "output_type": "execute_result"
    }
   ],
   "source": [
    "radicalTags(' ')"
   ]
  },
  {
   "cell_type": "code",
   "execution_count": 7,
   "metadata": {
    "collapsed": false
   },
   "outputs": [],
   "source": [
    "class Atom(object):\n",
    "    # the index in the sentence\n",
    "    index = None\n",
    "    \n",
    "    def __init__(self, atom):\n",
    "        self._atom = atom\n",
    "        self.basicTag = basicTags(self._atom)\n",
    "        self.dictTag = dictTags(self._atom)\n",
    "        self.radical = radicalTags(self._atom)\n",
    "    \n",
    "    def to_dict(self):\n",
    "        return self.__dict__\n",
    "    \n",
    "    def get_attr(self, name):\n",
    "        return self.__getattribute__(name)\n",
    "    \n",
    "    def set_attr(self, name, value):\n",
    "        self.__setattr__(name, value)\n",
    "    \n",
    "    def __repr__(self):\n",
    "        return \"\\t\".join([self._atom, self.basicTag, self.dictTag, self.radical])\n"
   ]
  },
  {
   "cell_type": "code",
   "execution_count": 18,
   "metadata": {
    "collapsed": false
   },
   "outputs": [
    {
     "data": {
      "text/plain": [
       "症\tCHN\tOTHER\t疒"
      ]
     },
     "execution_count": 18,
     "metadata": {},
     "output_type": "execute_result"
    }
   ],
   "source": [
    "a = Atom('症')\n",
    "a"
   ]
  },
  {
   "cell_type": "code",
   "execution_count": 16,
   "metadata": {
    "collapsed": false
   },
   "outputs": [
    {
     "data": {
      "text/plain": [
       "{'_atom': '症', 'basicTag': 'CHN', 'dictTag': 'OTHER', 'radical': '疒'}"
      ]
     },
     "execution_count": 16,
     "metadata": {},
     "output_type": "execute_result"
    }
   ],
   "source": [
    "a.to_dict()"
   ]
  },
  {
   "cell_type": "code",
   "execution_count": 17,
   "metadata": {
    "collapsed": false
   },
   "outputs": [
    {
     "data": {
      "text/plain": [
       "'O'"
      ]
     },
     "execution_count": 17,
     "metadata": {},
     "output_type": "execute_result"
    }
   ],
   "source": [
    "a.set_attr('ETag', 'O')\n",
    "a.ETag"
   ]
  }
 ],
 "metadata": {
  "anaconda-cloud": {},
  "kernelspec": {
   "display_name": "Python [default]",
   "language": "python",
   "name": "python3"
  },
  "language_info": {
   "codemirror_mode": {
    "name": "ipython",
    "version": 3
   },
   "file_extension": ".py",
   "mimetype": "text/x-python",
   "name": "python",
   "nbconvert_exporter": "python",
   "pygments_lexer": "ipython3",
   "version": "3.5.2"
  }
 },
 "nbformat": 4,
 "nbformat_minor": 1
}
