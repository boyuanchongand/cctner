{
 "cells": [
  {
   "cell_type": "code",
   "execution_count": 1,
   "metadata": {
    "collapsed": true
   },
   "outputs": [],
   "source": [
    "import sys\n",
    "rootPath = '/Users/floyd/Desktop/Research/NER-CRF/cctner/'\n",
    "sys.path.append('/Users/floyd/Desktop/Research/NER-CRF/cctner')"
   ]
  },
  {
   "cell_type": "code",
   "execution_count": 2,
   "metadata": {
    "collapsed": true
   },
   "outputs": [],
   "source": [
    "#d = {'originalFilePath': 'annotated/05-出院情况/出院情况-291.txtoriginal.txt', 'annotedFilePath': 'annotated/05-出院情况/出院情况-291.txt'}\n",
    "from dataset import batch1, batch2\n",
    "\n",
    "\n",
    "inputPath = 'demo/Tagger/orig.txt'\n",
    "outputPath= 'demo/Tagger/tagger_result.txt'"
   ]
  },
  {
   "cell_type": "code",
   "execution_count": 4,
   "metadata": {
    "scrolled": true
   },
   "outputs": [
    {
     "data": {
      "text/html": [
       "<div>\n",
       "<style scoped>\n",
       "    .dataframe tbody tr th:only-of-type {\n",
       "        vertical-align: middle;\n",
       "    }\n",
       "\n",
       "    .dataframe tbody tr th {\n",
       "        vertical-align: top;\n",
       "    }\n",
       "\n",
       "    .dataframe thead th {\n",
       "        text-align: right;\n",
       "    }\n",
       "</style>\n",
       "<table border=\"1\" class=\"dataframe\">\n",
       "  <thead>\n",
       "    <tr style=\"text-align: right;\">\n",
       "      <th></th>\n",
       "      <th>_atom</th>\n",
       "      <th>basicTag</th>\n",
       "      <th>dictTag</th>\n",
       "      <th>radical</th>\n",
       "      <th>POSTag</th>\n",
       "    </tr>\n",
       "  </thead>\n",
       "  <tbody>\n",
       "    <tr>\n",
       "      <th>0</th>\n",
       "      <td>原</td>\n",
       "      <td>CHN</td>\n",
       "      <td>OTHER</td>\n",
       "      <td>厂</td>\n",
       "      <td>n-B</td>\n",
       "    </tr>\n",
       "    <tr>\n",
       "      <th>1</th>\n",
       "      <td>发</td>\n",
       "      <td>CHN</td>\n",
       "      <td>OTHER</td>\n",
       "      <td>又</td>\n",
       "      <td>n-I</td>\n",
       "    </tr>\n",
       "    <tr>\n",
       "      <th>2</th>\n",
       "      <td>性</td>\n",
       "      <td>CHN</td>\n",
       "      <td>OTHER</td>\n",
       "      <td>忄</td>\n",
       "      <td>n-I</td>\n",
       "    </tr>\n",
       "    <tr>\n",
       "      <th>3</th>\n",
       "      <td>胆</td>\n",
       "      <td>CHN</td>\n",
       "      <td>PART_UNIT</td>\n",
       "      <td>月</td>\n",
       "      <td>n-B</td>\n",
       "    </tr>\n",
       "    <tr>\n",
       "      <th>4</th>\n",
       "      <td>汁</td>\n",
       "      <td>CHN</td>\n",
       "      <td>OTHER</td>\n",
       "      <td>氵</td>\n",
       "      <td>n-I</td>\n",
       "    </tr>\n",
       "  </tbody>\n",
       "</table>\n",
       "</div>"
      ],
      "text/plain": [
       "  _atom basicTag    dictTag radical POSTag\n",
       "0     原      CHN      OTHER       厂    n-B\n",
       "1     发      CHN      OTHER       又    n-I\n",
       "2     性      CHN      OTHER       忄    n-I\n",
       "3     胆      CHN  PART_UNIT       月    n-B\n",
       "4     汁      CHN      OTHER       氵    n-I"
      ]
     },
     "execution_count": 4,
     "metadata": {},
     "output_type": "execute_result"
    }
   ],
   "source": [
    "from text import ChineseClinicalText as CCT\n",
    "\n",
    "cct = CCT(originalFilePath=inputPath, batch = batch2)\n",
    "cct.execute()\n",
    "cct.dfFormat.head()"
   ]
  },
  {
   "cell_type": "code",
   "execution_count": 5,
   "metadata": {},
   "outputs": [
    {
     "data": {
      "text/plain": [
       "'/Users/floyd/Desktop/Research/NER-CRF/cctner/'"
      ]
     },
     "execution_count": 5,
     "metadata": {},
     "output_type": "execute_result"
    }
   ],
   "source": [
    "rootPath"
   ]
  },
  {
   "cell_type": "markdown",
   "metadata": {},
   "source": [
    "# Arch 1"
   ]
  },
  {
   "cell_type": "code",
   "execution_count": 6,
   "metadata": {
    "scrolled": true
   },
   "outputs": [
    {
     "data": {
      "text/plain": [
       "{'arch': 1,\n",
       " 'attrs': ['a', 'b'],\n",
       " 'cols': ['_atom', 'basicTag'],\n",
       " 'crfPara': {'-c': '5.0', '-f': '2', '-p': '4', '-t': None},\n",
       " 'crf_learnPath': 'crftools/crf_learn',\n",
       " 'crf_testPath': 'crftools/crf_test',\n",
       " 'evalTag': 'LearnedETag',\n",
       " 'eval_cols': ['_atom', 'basicTag'],\n",
       " 'logPath': 'models/1ab/logError.csv',\n",
       " 'lstm': {},\n",
       " 'modelPath': 'models/1ab/model',\n",
       " 'paraPath': 'models/1ab/para.p',\n",
       " 'path': 'models/1ab',\n",
       " 'perform':     Annoted  Learned  Matched         R         P        F1\n",
       " Sy     1932     1950     1885  0.975673  0.966667  0.971149\n",
       " Bo     2605     2628     2317  0.889443  0.881659  0.885534\n",
       " Ch     2336     2333     2243  0.960188  0.961423  0.960805\n",
       " Tr      261      229      191  0.731801  0.834061  0.779592\n",
       " Si      197      158      133  0.675127  0.841772  0.749296\n",
       " E      7331     7298     6769  0.923339  0.927514  0.925422,\n",
       " 'performPath': 'models/1ab/peformance.txt',\n",
       " 'tag_cols': ['ETag'],\n",
       " 'template': 'template/template01',\n",
       " 'testDataPath': 'models/1ab/output/testData.txt',\n",
       " 'testDataResultPath': 'models/1ab/output/testDataResult.txt',\n",
       " 'trainDataPath': 'models/1ab/output/trainData.txt',\n",
       " 'vect': {}}"
      ]
     },
     "execution_count": 6,
     "metadata": {},
     "output_type": "execute_result"
    }
   ],
   "source": [
    "import pickle\n",
    "\n",
    "# rootMPath = 'models/'\n",
    "\n",
    "rootMPath =rootPath +  'models/'\n",
    "model = '1ab'\n",
    "\n",
    "with open(rootMPath + model + '/para.p', 'rb') as handle:\n",
    "        para = pickle.load(handle)\n",
    "\n",
    "para"
   ]
  },
  {
   "cell_type": "code",
   "execution_count": 7,
   "metadata": {},
   "outputs": [
    {
     "name": "stdout",
     "output_type": "stream",
     "text": [
      "1ab\n"
     ]
    }
   ],
   "source": [
    "print(model)"
   ]
  },
  {
   "cell_type": "code",
   "execution_count": 8,
   "metadata": {},
   "outputs": [
    {
     "data": {
      "text/plain": [
       "'orig'"
      ]
     },
     "execution_count": 8,
     "metadata": {},
     "output_type": "execute_result"
    }
   ],
   "source": [
    "tmp = inputPath.split('/')[-1]\n",
    "fileName = tmp.split('.')[0]\n",
    "fileName"
   ]
  },
  {
   "cell_type": "code",
   "execution_count": 9,
   "metadata": {
    "collapsed": true
   },
   "outputs": [],
   "source": [
    "from crftools import crf_test"
   ]
  },
  {
   "cell_type": "code",
   "execution_count": 10,
   "metadata": {
    "collapsed": true
   },
   "outputs": [],
   "source": [
    "tmpInput  = 'demo/Tagger/tmp/' + model+ '-'+ fileName + '-Test' + '.txt'\n",
    "tmpOutput = 'demo/Tagger/tmp/' + model+ '-'+ fileName + '-Rslt' + '.txt'"
   ]
  },
  {
   "cell_type": "code",
   "execution_count": 11,
   "metadata": {},
   "outputs": [
    {
     "data": {
      "text/plain": [
       "['_atom', 'basicTag']"
      ]
     },
     "execution_count": 11,
     "metadata": {},
     "output_type": "execute_result"
    }
   ],
   "source": [
    "para['cols']"
   ]
  },
  {
   "cell_type": "code",
   "execution_count": 12,
   "metadata": {
    "collapsed": true
   },
   "outputs": [],
   "source": [
    "cct.toTextFile(tmpInput, cols = para['cols'])"
   ]
  },
  {
   "cell_type": "code",
   "execution_count": 13,
   "metadata": {
    "collapsed": true
   },
   "outputs": [],
   "source": [
    "crf_test(crf_test_path = rootPath + para['crf_testPath'],\n",
    "         modelpath     = rootPath + para['modelPath'],\n",
    "         testfilepath  = tmpInput,\n",
    "         resultpath    = tmpOutput)"
   ]
  },
  {
   "cell_type": "code",
   "execution_count": 14,
   "metadata": {},
   "outputs": [
    {
     "data": {
      "text/html": [
       "<div>\n",
       "<style scoped>\n",
       "    .dataframe tbody tr th:only-of-type {\n",
       "        vertical-align: middle;\n",
       "    }\n",
       "\n",
       "    .dataframe tbody tr th {\n",
       "        vertical-align: top;\n",
       "    }\n",
       "\n",
       "    .dataframe thead th {\n",
       "        text-align: right;\n",
       "    }\n",
       "</style>\n",
       "<table border=\"1\" class=\"dataframe\">\n",
       "  <thead>\n",
       "    <tr style=\"text-align: right;\">\n",
       "      <th></th>\n",
       "      <th>0</th>\n",
       "      <th>1</th>\n",
       "      <th>2</th>\n",
       "      <th>3</th>\n",
       "      <th>4</th>\n",
       "      <th>5</th>\n",
       "      <th>6</th>\n",
       "      <th>7</th>\n",
       "      <th>8</th>\n",
       "      <th>9</th>\n",
       "      <th>10</th>\n",
       "      <th>11</th>\n",
       "      <th>12</th>\n",
       "      <th>13</th>\n",
       "    </tr>\n",
       "  </thead>\n",
       "  <tbody>\n",
       "    <tr>\n",
       "      <th>0</th>\n",
       "      <td>原</td>\n",
       "      <td>CHN</td>\n",
       "      <td>O/0.997848</td>\n",
       "      <td>Bo-B/0.000898</td>\n",
       "      <td>Bo-I/0.000163</td>\n",
       "      <td>Ch-B/0.000012</td>\n",
       "      <td>Ch-I/0.000099</td>\n",
       "      <td>O/0.997848</td>\n",
       "      <td>Si-B/0.000480</td>\n",
       "      <td>Si-I/0.000186</td>\n",
       "      <td>Sy-B/0.000087</td>\n",
       "      <td>Sy-I/0.000032</td>\n",
       "      <td>Tr-B/0.000029</td>\n",
       "      <td>Tr-I/0.000165</td>\n",
       "    </tr>\n",
       "    <tr>\n",
       "      <th>1</th>\n",
       "      <td>发</td>\n",
       "      <td>CHN</td>\n",
       "      <td>O/0.999150</td>\n",
       "      <td>Bo-B/0.000014</td>\n",
       "      <td>Bo-I/0.000020</td>\n",
       "      <td>Ch-B/0.000007</td>\n",
       "      <td>Ch-I/0.000023</td>\n",
       "      <td>O/0.999150</td>\n",
       "      <td>Si-B/0.000057</td>\n",
       "      <td>Si-I/0.000602</td>\n",
       "      <td>Sy-B/0.000043</td>\n",
       "      <td>Sy-I/0.000041</td>\n",
       "      <td>Tr-B/0.000004</td>\n",
       "      <td>Tr-I/0.000039</td>\n",
       "    </tr>\n",
       "    <tr>\n",
       "      <th>2</th>\n",
       "      <td>性</td>\n",
       "      <td>CHN</td>\n",
       "      <td>O/0.999095</td>\n",
       "      <td>Bo-B/0.000036</td>\n",
       "      <td>Bo-I/0.000002</td>\n",
       "      <td>Ch-B/0.000024</td>\n",
       "      <td>Ch-I/0.000022</td>\n",
       "      <td>O/0.999095</td>\n",
       "      <td>Si-B/0.000038</td>\n",
       "      <td>Si-I/0.000648</td>\n",
       "      <td>Sy-B/0.000050</td>\n",
       "      <td>Sy-I/0.000040</td>\n",
       "      <td>Tr-B/0.000024</td>\n",
       "      <td>Tr-I/0.000022</td>\n",
       "    </tr>\n",
       "    <tr>\n",
       "      <th>3</th>\n",
       "      <td>胆</td>\n",
       "      <td>CHN</td>\n",
       "      <td>O/0.998675</td>\n",
       "      <td>Bo-B/0.000406</td>\n",
       "      <td>Bo-I/0.000020</td>\n",
       "      <td>Ch-B/0.000013</td>\n",
       "      <td>Ch-I/0.000042</td>\n",
       "      <td>O/0.998675</td>\n",
       "      <td>Si-B/0.000021</td>\n",
       "      <td>Si-I/0.000666</td>\n",
       "      <td>Sy-B/0.000046</td>\n",
       "      <td>Sy-I/0.000050</td>\n",
       "      <td>Tr-B/0.000022</td>\n",
       "      <td>Tr-I/0.000039</td>\n",
       "    </tr>\n",
       "    <tr>\n",
       "      <th>4</th>\n",
       "      <td>汁</td>\n",
       "      <td>CHN</td>\n",
       "      <td>O/0.998889</td>\n",
       "      <td>Bo-B/0.000087</td>\n",
       "      <td>Bo-I/0.000098</td>\n",
       "      <td>Ch-B/0.000046</td>\n",
       "      <td>Ch-I/0.000035</td>\n",
       "      <td>O/0.998889</td>\n",
       "      <td>Si-B/0.000134</td>\n",
       "      <td>Si-I/0.000620</td>\n",
       "      <td>Sy-B/0.000007</td>\n",
       "      <td>Sy-I/0.000034</td>\n",
       "      <td>Tr-B/0.000016</td>\n",
       "      <td>Tr-I/0.000035</td>\n",
       "    </tr>\n",
       "  </tbody>\n",
       "</table>\n",
       "</div>"
      ],
      "text/plain": [
       "  0    1           2              3              4              5   \\\n",
       "0  原  CHN  O/0.997848  Bo-B/0.000898  Bo-I/0.000163  Ch-B/0.000012   \n",
       "1  发  CHN  O/0.999150  Bo-B/0.000014  Bo-I/0.000020  Ch-B/0.000007   \n",
       "2  性  CHN  O/0.999095  Bo-B/0.000036  Bo-I/0.000002  Ch-B/0.000024   \n",
       "3  胆  CHN  O/0.998675  Bo-B/0.000406  Bo-I/0.000020  Ch-B/0.000013   \n",
       "4  汁  CHN  O/0.998889  Bo-B/0.000087  Bo-I/0.000098  Ch-B/0.000046   \n",
       "\n",
       "              6           7              8              9              10  \\\n",
       "0  Ch-I/0.000099  O/0.997848  Si-B/0.000480  Si-I/0.000186  Sy-B/0.000087   \n",
       "1  Ch-I/0.000023  O/0.999150  Si-B/0.000057  Si-I/0.000602  Sy-B/0.000043   \n",
       "2  Ch-I/0.000022  O/0.999095  Si-B/0.000038  Si-I/0.000648  Sy-B/0.000050   \n",
       "3  Ch-I/0.000042  O/0.998675  Si-B/0.000021  Si-I/0.000666  Sy-B/0.000046   \n",
       "4  Ch-I/0.000035  O/0.998889  Si-B/0.000134  Si-I/0.000620  Sy-B/0.000007   \n",
       "\n",
       "              11             12             13  \n",
       "0  Sy-I/0.000032  Tr-B/0.000029  Tr-I/0.000165  \n",
       "1  Sy-I/0.000041  Tr-B/0.000004  Tr-I/0.000039  \n",
       "2  Sy-I/0.000040  Tr-B/0.000024  Tr-I/0.000022  \n",
       "3  Sy-I/0.000050  Tr-B/0.000022  Tr-I/0.000039  \n",
       "4  Sy-I/0.000034  Tr-B/0.000016  Tr-I/0.000035  "
      ]
     },
     "execution_count": 14,
     "metadata": {},
     "output_type": "execute_result"
    }
   ],
   "source": [
    "from pandas import read_csv\n",
    "result = read_csv(tmpOutput, sep = '\\t', comment = '#', header= None, skip_blank_lines= False)\n",
    "result.head()"
   ]
  },
  {
   "cell_type": "code",
   "execution_count": 15,
   "metadata": {},
   "outputs": [
    {
     "data": {
      "text/plain": [
       "[['皮下脂肪瘤', 56, 60, 'Bo'],\n",
       " ['高血压', 69, 71, 'Si'],\n",
       " ['降压药物', 86, 89, 'Tr'],\n",
       " ['右上腹部', 107, 110, 'Bo'],\n",
       " ['口唇', 177, 178, 'Bo'],\n",
       " ['全身皮肤', 187, 190, 'Bo'],\n",
       " ['黄染', 192, 193, 'Sy'],\n",
       " ['出血点', 196, 198, 'Bo'],\n",
       " ['律齐', 212, 213, 'Sy'],\n",
       " ['病理性杂音', 218, 222, 'Ch'],\n",
       " ['双肺', 224, 225, 'Bo'],\n",
       " ['呼吸音', 226, 228, 'Ch'],\n",
       " ['干湿啰音', 234, 237, 'Ch'],\n",
       " ['腹', 239, 239, 'Bo'],\n",
       " ['腹壁', 244, 245, 'Bo'],\n",
       " ['静脉曲张', 246, 249, 'Sy'],\n",
       " ['腹', 274, 274, 'Bo'],\n",
       " ['全腹', 277, 278, 'Bo'],\n",
       " ['压痛', 280, 281, 'Ch'],\n",
       " ['反跳痛', 283, 285, 'Ch'],\n",
       " ['肝脏肋下', 297, 300, 'Bo'],\n",
       " ['脾脏肋下', 304, 307, 'Bo'],\n",
       " ['移动性浊音', 311, 315, 'Ch'],\n",
       " ['肠鸣音', 319, 321, 'Ch'],\n",
       " ['双下肢', 327, 329, 'Bo'],\n",
       " ['水肿', 331, 332, 'Sy']]"
      ]
     },
     "execution_count": 15,
     "metadata": {},
     "output_type": "execute_result"
    }
   ],
   "source": [
    "cct.corpResult(result, 'LearnedETag')\n",
    "cct.getLearnedEntities('LearnedETag')"
   ]
  },
  {
   "cell_type": "markdown",
   "metadata": {
    "collapsed": true
   },
   "source": [
    "# Arch2"
   ]
  },
  {
   "cell_type": "code",
   "execution_count": 16,
   "metadata": {},
   "outputs": [
    {
     "data": {
      "text/plain": [
       "{'arch': 2,\n",
       " 'attrs': ['a', 'b', 'p'],\n",
       " 'cols': ['_atom', 'basicTag', 'POSTag'],\n",
       " 'crfPara': {'-c': '5.0', '-f': '2', '-p': '4', '-t': None},\n",
       " 'crf_learnPath': 'crftools/crf_learn',\n",
       " 'crf_testPath': 'crftools/crf_test',\n",
       " 'evalTag': 'ETag',\n",
       " 'eval_cols': ['_atom', 'basicTag', 'POSTag', 'RTag'],\n",
       " 'lstm': {},\n",
       " 'modelPath1': 'models/2abp/model1',\n",
       " 'modelPath2': 'models/2abp/model2',\n",
       " 'paraPath': 'models/2abp/para.p',\n",
       " 'path': 'models/2abp',\n",
       " 'perform':     annoted  learned  matched         P         R        F1\n",
       " Sy     1859     1863     1800  0.966184  0.968263  0.967222\n",
       " Bo     2500     2506     2215  0.883879  0.886000  0.884938\n",
       " Ch     2293     2276     2169  0.952988  0.945922  0.949442\n",
       " Tr      252      222      178  0.801802  0.706349  0.751055\n",
       " Si      198      195      154  0.789744  0.777778  0.783715\n",
       " E      7102     7062     6516  0.922685  0.917488  0.920079,\n",
       " 'performPath': 'models/2abp/peformance.txt',\n",
       " 'tag_cols1': ['RTag'],\n",
       " 'tag_cols2': ['RTag', 'ETag'],\n",
       " 'template1': 'template/template11',\n",
       " 'template2': 'template/templateFor5Tag',\n",
       " 'testDataPath1': 'models/2abp/output/testData1.txt',\n",
       " 'testDataPath2': 'models/2abp/output/testData2.txt',\n",
       " 'testDataResultPath1': 'models/2abp/output/testDataResult1.txt',\n",
       " 'testDataResultPath2': 'models/2abp/output/testDataResult2.txt',\n",
       " 'trainDataPath1': 'models/2abp/output/trainData1.txt',\n",
       " 'trainDataPath2': 'models/2abp/output/trainData2.txt',\n",
       " 'vect': {}}"
      ]
     },
     "execution_count": 16,
     "metadata": {},
     "output_type": "execute_result"
    }
   ],
   "source": [
    "model = '2abp'\n",
    "\n",
    "import pickle\n",
    "\n",
    "# rootMPath = 'models/'\n",
    "\n",
    "rootMPath =rootPath +  'models/'\n",
    "\n",
    "\n",
    "with open(rootMPath + model + '/para.p', 'rb') as handle:\n",
    "        para = pickle.load(handle)\n",
    "\n",
    "para"
   ]
  },
  {
   "cell_type": "code",
   "execution_count": 17,
   "metadata": {
    "collapsed": true
   },
   "outputs": [],
   "source": [
    "tmpInput1  = 'demo/Tagger/tmp/' + model + '-' + fileName + '-1Test' + '.txt'\n",
    "tmpOutput1 = 'demo/Tagger/tmp/' + model + '-' + fileName + '-1Rslt' + '.txt'"
   ]
  },
  {
   "cell_type": "code",
   "execution_count": 18,
   "metadata": {
    "collapsed": true
   },
   "outputs": [],
   "source": [
    "cct.toTextFile(tmpInput1, cols = para['cols'])"
   ]
  },
  {
   "cell_type": "code",
   "execution_count": 19,
   "metadata": {
    "collapsed": true
   },
   "outputs": [],
   "source": [
    "crf_test(crf_test_path = rootPath + para['crf_testPath'],\n",
    "         modelpath     = rootPath + para['modelPath1'],\n",
    "         testfilepath  = tmpInput1,\n",
    "         resultpath    = tmpOutput1,\n",
    "         concise       = True)"
   ]
  },
  {
   "cell_type": "code",
   "execution_count": 20,
   "metadata": {
    "collapsed": true
   },
   "outputs": [],
   "source": [
    "tmpInput2  = 'demo/Tagger/tmp/' + model + '-'+fileName + '-2Test' + '.txt'\n",
    "tmpInput2\n",
    "\n",
    "tmpOutput2 = 'demo/Tagger/tmp/' + model +'-'+ fileName + '-2Rslt' + '.txt'"
   ]
  },
  {
   "cell_type": "code",
   "execution_count": 21,
   "metadata": {
    "collapsed": true
   },
   "outputs": [],
   "source": [
    "import pandas as pd\n"
   ]
  },
  {
   "cell_type": "code",
   "execution_count": 22,
   "metadata": {
    "collapsed": true
   },
   "outputs": [],
   "source": [
    "pd.read_csv(tmpOutput1, sep = '\\t', header = None).to_csv(tmpInput2, sep = '\\t', header = None, index=None)\n"
   ]
  },
  {
   "cell_type": "code",
   "execution_count": 23,
   "metadata": {},
   "outputs": [
    {
     "data": {
      "text/plain": [
       "'demo/Tagger/tmp/2abp-orig-2Test.txt'"
      ]
     },
     "execution_count": 23,
     "metadata": {},
     "output_type": "execute_result"
    }
   ],
   "source": [
    "tmpInput2"
   ]
  },
  {
   "cell_type": "code",
   "execution_count": 24,
   "metadata": {
    "collapsed": true
   },
   "outputs": [],
   "source": [
    "crf_test(crf_test_path = rootPath+ para['crf_testPath'],\n",
    "         modelpath     = rootPath+para['modelPath2'],\n",
    "         testfilepath  = tmpInput2,\n",
    "         resultpath    = tmpOutput2)\n"
   ]
  },
  {
   "cell_type": "code",
   "execution_count": 25,
   "metadata": {
    "collapsed": true
   },
   "outputs": [],
   "source": [
    "result = read_csv(tmpOutput2, sep = '\\t', comment = '#', header= None, skip_blank_lines= False)"
   ]
  },
  {
   "cell_type": "code",
   "execution_count": 26,
   "metadata": {},
   "outputs": [
    {
     "data": {
      "text/html": [
       "<div>\n",
       "<style scoped>\n",
       "    .dataframe tbody tr th:only-of-type {\n",
       "        vertical-align: middle;\n",
       "    }\n",
       "\n",
       "    .dataframe tbody tr th {\n",
       "        vertical-align: top;\n",
       "    }\n",
       "\n",
       "    .dataframe thead th {\n",
       "        text-align: right;\n",
       "    }\n",
       "</style>\n",
       "<table border=\"1\" class=\"dataframe\">\n",
       "  <thead>\n",
       "    <tr style=\"text-align: right;\">\n",
       "      <th></th>\n",
       "      <th>0</th>\n",
       "      <th>1</th>\n",
       "      <th>2</th>\n",
       "      <th>3</th>\n",
       "      <th>4</th>\n",
       "      <th>5</th>\n",
       "      <th>6</th>\n",
       "      <th>7</th>\n",
       "      <th>8</th>\n",
       "      <th>9</th>\n",
       "      <th>10</th>\n",
       "      <th>11</th>\n",
       "      <th>12</th>\n",
       "      <th>13</th>\n",
       "      <th>14</th>\n",
       "      <th>15</th>\n",
       "    </tr>\n",
       "  </thead>\n",
       "  <tbody>\n",
       "    <tr>\n",
       "      <th>0</th>\n",
       "      <td>原</td>\n",
       "      <td>CHN</td>\n",
       "      <td>n-B</td>\n",
       "      <td>O</td>\n",
       "      <td>O/0.999982</td>\n",
       "      <td>Bo-B/0.000002</td>\n",
       "      <td>Bo-I/0.000001</td>\n",
       "      <td>Ch-B/0.000000</td>\n",
       "      <td>Ch-I/0.000000</td>\n",
       "      <td>O/0.999982</td>\n",
       "      <td>Si-B/0.000006</td>\n",
       "      <td>Si-I/0.000001</td>\n",
       "      <td>Sy-B/0.000004</td>\n",
       "      <td>Sy-I/0.000001</td>\n",
       "      <td>Tr-B/0.000002</td>\n",
       "      <td>Tr-I/0.000001</td>\n",
       "    </tr>\n",
       "    <tr>\n",
       "      <th>1</th>\n",
       "      <td>发</td>\n",
       "      <td>CHN</td>\n",
       "      <td>n-I</td>\n",
       "      <td>O</td>\n",
       "      <td>O/1.000000</td>\n",
       "      <td>Bo-B/0.000000</td>\n",
       "      <td>Bo-I/0.000000</td>\n",
       "      <td>Ch-B/0.000000</td>\n",
       "      <td>Ch-I/0.000000</td>\n",
       "      <td>O/1.000000</td>\n",
       "      <td>Si-B/0.000000</td>\n",
       "      <td>Si-I/0.000000</td>\n",
       "      <td>Sy-B/0.000000</td>\n",
       "      <td>Sy-I/0.000000</td>\n",
       "      <td>Tr-B/0.000000</td>\n",
       "      <td>Tr-I/0.000000</td>\n",
       "    </tr>\n",
       "    <tr>\n",
       "      <th>2</th>\n",
       "      <td>性</td>\n",
       "      <td>CHN</td>\n",
       "      <td>n-I</td>\n",
       "      <td>O</td>\n",
       "      <td>O/1.000000</td>\n",
       "      <td>Bo-B/0.000000</td>\n",
       "      <td>Bo-I/0.000000</td>\n",
       "      <td>Ch-B/0.000000</td>\n",
       "      <td>Ch-I/0.000000</td>\n",
       "      <td>O/1.000000</td>\n",
       "      <td>Si-B/0.000000</td>\n",
       "      <td>Si-I/0.000000</td>\n",
       "      <td>Sy-B/0.000000</td>\n",
       "      <td>Sy-I/0.000000</td>\n",
       "      <td>Tr-B/0.000000</td>\n",
       "      <td>Tr-I/0.000000</td>\n",
       "    </tr>\n",
       "    <tr>\n",
       "      <th>3</th>\n",
       "      <td>胆</td>\n",
       "      <td>CHN</td>\n",
       "      <td>n-B</td>\n",
       "      <td>O</td>\n",
       "      <td>O/0.999999</td>\n",
       "      <td>Bo-B/0.000000</td>\n",
       "      <td>Bo-I/0.000000</td>\n",
       "      <td>Ch-B/0.000000</td>\n",
       "      <td>Ch-I/0.000000</td>\n",
       "      <td>O/0.999999</td>\n",
       "      <td>Si-B/0.000000</td>\n",
       "      <td>Si-I/0.000000</td>\n",
       "      <td>Sy-B/0.000000</td>\n",
       "      <td>Sy-I/0.000000</td>\n",
       "      <td>Tr-B/0.000000</td>\n",
       "      <td>Tr-I/0.000000</td>\n",
       "    </tr>\n",
       "    <tr>\n",
       "      <th>4</th>\n",
       "      <td>汁</td>\n",
       "      <td>CHN</td>\n",
       "      <td>n-I</td>\n",
       "      <td>O</td>\n",
       "      <td>O/1.000000</td>\n",
       "      <td>Bo-B/0.000000</td>\n",
       "      <td>Bo-I/0.000000</td>\n",
       "      <td>Ch-B/0.000000</td>\n",
       "      <td>Ch-I/0.000000</td>\n",
       "      <td>O/1.000000</td>\n",
       "      <td>Si-B/0.000000</td>\n",
       "      <td>Si-I/0.000000</td>\n",
       "      <td>Sy-B/0.000000</td>\n",
       "      <td>Sy-I/0.000000</td>\n",
       "      <td>Tr-B/0.000000</td>\n",
       "      <td>Tr-I/0.000000</td>\n",
       "    </tr>\n",
       "  </tbody>\n",
       "</table>\n",
       "</div>"
      ],
      "text/plain": [
       "  0    1    2  3           4              5              6              7   \\\n",
       "0  原  CHN  n-B  O  O/0.999982  Bo-B/0.000002  Bo-I/0.000001  Ch-B/0.000000   \n",
       "1  发  CHN  n-I  O  O/1.000000  Bo-B/0.000000  Bo-I/0.000000  Ch-B/0.000000   \n",
       "2  性  CHN  n-I  O  O/1.000000  Bo-B/0.000000  Bo-I/0.000000  Ch-B/0.000000   \n",
       "3  胆  CHN  n-B  O  O/0.999999  Bo-B/0.000000  Bo-I/0.000000  Ch-B/0.000000   \n",
       "4  汁  CHN  n-I  O  O/1.000000  Bo-B/0.000000  Bo-I/0.000000  Ch-B/0.000000   \n",
       "\n",
       "              8           9              10             11             12  \\\n",
       "0  Ch-I/0.000000  O/0.999982  Si-B/0.000006  Si-I/0.000001  Sy-B/0.000004   \n",
       "1  Ch-I/0.000000  O/1.000000  Si-B/0.000000  Si-I/0.000000  Sy-B/0.000000   \n",
       "2  Ch-I/0.000000  O/1.000000  Si-B/0.000000  Si-I/0.000000  Sy-B/0.000000   \n",
       "3  Ch-I/0.000000  O/0.999999  Si-B/0.000000  Si-I/0.000000  Sy-B/0.000000   \n",
       "4  Ch-I/0.000000  O/1.000000  Si-B/0.000000  Si-I/0.000000  Sy-B/0.000000   \n",
       "\n",
       "              13             14             15  \n",
       "0  Sy-I/0.000001  Tr-B/0.000002  Tr-I/0.000001  \n",
       "1  Sy-I/0.000000  Tr-B/0.000000  Tr-I/0.000000  \n",
       "2  Sy-I/0.000000  Tr-B/0.000000  Tr-I/0.000000  \n",
       "3  Sy-I/0.000000  Tr-B/0.000000  Tr-I/0.000000  \n",
       "4  Sy-I/0.000000  Tr-B/0.000000  Tr-I/0.000000  "
      ]
     },
     "execution_count": 26,
     "metadata": {},
     "output_type": "execute_result"
    }
   ],
   "source": [
    "result.head()"
   ]
  },
  {
   "cell_type": "code",
   "execution_count": 27,
   "metadata": {},
   "outputs": [
    {
     "data": {
      "text/plain": [
       "['_atom', 'basicTag', 'POSTag', 'RTag']"
      ]
     },
     "execution_count": 27,
     "metadata": {},
     "output_type": "execute_result"
    }
   ],
   "source": [
    "cct.outputCols = para['eval_cols']\n",
    "cct.outputCols"
   ]
  },
  {
   "cell_type": "code",
   "execution_count": 28,
   "metadata": {},
   "outputs": [
    {
     "data": {
      "text/html": [
       "<div>\n",
       "<style scoped>\n",
       "    .dataframe tbody tr th:only-of-type {\n",
       "        vertical-align: middle;\n",
       "    }\n",
       "\n",
       "    .dataframe tbody tr th {\n",
       "        vertical-align: top;\n",
       "    }\n",
       "\n",
       "    .dataframe thead th {\n",
       "        text-align: right;\n",
       "    }\n",
       "</style>\n",
       "<table border=\"1\" class=\"dataframe\">\n",
       "  <thead>\n",
       "    <tr style=\"text-align: right;\">\n",
       "      <th></th>\n",
       "      <th>_atom</th>\n",
       "      <th>basicTag</th>\n",
       "      <th>POSTag</th>\n",
       "      <th>RTag</th>\n",
       "      <th>Result</th>\n",
       "      <th>0</th>\n",
       "      <th>1</th>\n",
       "      <th>2</th>\n",
       "      <th>3</th>\n",
       "      <th>4</th>\n",
       "      <th>5</th>\n",
       "      <th>6</th>\n",
       "      <th>7</th>\n",
       "      <th>8</th>\n",
       "      <th>9</th>\n",
       "      <th>10</th>\n",
       "    </tr>\n",
       "  </thead>\n",
       "  <tbody>\n",
       "    <tr>\n",
       "      <th>0</th>\n",
       "      <td>原</td>\n",
       "      <td>CHN</td>\n",
       "      <td>n-B</td>\n",
       "      <td>O</td>\n",
       "      <td>O/0.999982</td>\n",
       "      <td>Bo-B/0.000002</td>\n",
       "      <td>Bo-I/0.000001</td>\n",
       "      <td>Ch-B/0.000000</td>\n",
       "      <td>Ch-I/0.000000</td>\n",
       "      <td>O/0.999982</td>\n",
       "      <td>Si-B/0.000006</td>\n",
       "      <td>Si-I/0.000001</td>\n",
       "      <td>Sy-B/0.000004</td>\n",
       "      <td>Sy-I/0.000001</td>\n",
       "      <td>Tr-B/0.000002</td>\n",
       "      <td>Tr-I/0.000001</td>\n",
       "    </tr>\n",
       "    <tr>\n",
       "      <th>1</th>\n",
       "      <td>发</td>\n",
       "      <td>CHN</td>\n",
       "      <td>n-I</td>\n",
       "      <td>O</td>\n",
       "      <td>O/1.000000</td>\n",
       "      <td>Bo-B/0.000000</td>\n",
       "      <td>Bo-I/0.000000</td>\n",
       "      <td>Ch-B/0.000000</td>\n",
       "      <td>Ch-I/0.000000</td>\n",
       "      <td>O/1.000000</td>\n",
       "      <td>Si-B/0.000000</td>\n",
       "      <td>Si-I/0.000000</td>\n",
       "      <td>Sy-B/0.000000</td>\n",
       "      <td>Sy-I/0.000000</td>\n",
       "      <td>Tr-B/0.000000</td>\n",
       "      <td>Tr-I/0.000000</td>\n",
       "    </tr>\n",
       "    <tr>\n",
       "      <th>2</th>\n",
       "      <td>性</td>\n",
       "      <td>CHN</td>\n",
       "      <td>n-I</td>\n",
       "      <td>O</td>\n",
       "      <td>O/1.000000</td>\n",
       "      <td>Bo-B/0.000000</td>\n",
       "      <td>Bo-I/0.000000</td>\n",
       "      <td>Ch-B/0.000000</td>\n",
       "      <td>Ch-I/0.000000</td>\n",
       "      <td>O/1.000000</td>\n",
       "      <td>Si-B/0.000000</td>\n",
       "      <td>Si-I/0.000000</td>\n",
       "      <td>Sy-B/0.000000</td>\n",
       "      <td>Sy-I/0.000000</td>\n",
       "      <td>Tr-B/0.000000</td>\n",
       "      <td>Tr-I/0.000000</td>\n",
       "    </tr>\n",
       "    <tr>\n",
       "      <th>3</th>\n",
       "      <td>胆</td>\n",
       "      <td>CHN</td>\n",
       "      <td>n-B</td>\n",
       "      <td>O</td>\n",
       "      <td>O/0.999999</td>\n",
       "      <td>Bo-B/0.000000</td>\n",
       "      <td>Bo-I/0.000000</td>\n",
       "      <td>Ch-B/0.000000</td>\n",
       "      <td>Ch-I/0.000000</td>\n",
       "      <td>O/0.999999</td>\n",
       "      <td>Si-B/0.000000</td>\n",
       "      <td>Si-I/0.000000</td>\n",
       "      <td>Sy-B/0.000000</td>\n",
       "      <td>Sy-I/0.000000</td>\n",
       "      <td>Tr-B/0.000000</td>\n",
       "      <td>Tr-I/0.000000</td>\n",
       "    </tr>\n",
       "    <tr>\n",
       "      <th>4</th>\n",
       "      <td>汁</td>\n",
       "      <td>CHN</td>\n",
       "      <td>n-I</td>\n",
       "      <td>O</td>\n",
       "      <td>O/1.000000</td>\n",
       "      <td>Bo-B/0.000000</td>\n",
       "      <td>Bo-I/0.000000</td>\n",
       "      <td>Ch-B/0.000000</td>\n",
       "      <td>Ch-I/0.000000</td>\n",
       "      <td>O/1.000000</td>\n",
       "      <td>Si-B/0.000000</td>\n",
       "      <td>Si-I/0.000000</td>\n",
       "      <td>Sy-B/0.000000</td>\n",
       "      <td>Sy-I/0.000000</td>\n",
       "      <td>Tr-B/0.000000</td>\n",
       "      <td>Tr-I/0.000000</td>\n",
       "    </tr>\n",
       "    <tr>\n",
       "      <th>5</th>\n",
       "      <td>性</td>\n",
       "      <td>CHN</td>\n",
       "      <td>n-B</td>\n",
       "      <td>O</td>\n",
       "      <td>O/1.000000</td>\n",
       "      <td>Bo-B/0.000000</td>\n",
       "      <td>Bo-I/0.000000</td>\n",
       "      <td>Ch-B/0.000000</td>\n",
       "      <td>Ch-I/0.000000</td>\n",
       "      <td>O/1.000000</td>\n",
       "      <td>Si-B/0.000000</td>\n",
       "      <td>Si-I/0.000000</td>\n",
       "      <td>Sy-B/0.000000</td>\n",
       "      <td>Sy-I/0.000000</td>\n",
       "      <td>Tr-B/0.000000</td>\n",
       "      <td>Tr-I/0.000000</td>\n",
       "    </tr>\n",
       "    <tr>\n",
       "      <th>6</th>\n",
       "      <td>肝</td>\n",
       "      <td>CHN</td>\n",
       "      <td>n-B</td>\n",
       "      <td>O</td>\n",
       "      <td>O/0.999999</td>\n",
       "      <td>Bo-B/0.000000</td>\n",
       "      <td>Bo-I/0.000000</td>\n",
       "      <td>Ch-B/0.000000</td>\n",
       "      <td>Ch-I/0.000000</td>\n",
       "      <td>O/0.999999</td>\n",
       "      <td>Si-B/0.000000</td>\n",
       "      <td>Si-I/0.000000</td>\n",
       "      <td>Sy-B/0.000000</td>\n",
       "      <td>Sy-I/0.000000</td>\n",
       "      <td>Tr-B/0.000000</td>\n",
       "      <td>Tr-I/0.000000</td>\n",
       "    </tr>\n",
       "    <tr>\n",
       "      <th>7</th>\n",
       "      <td>硬</td>\n",
       "      <td>CHN</td>\n",
       "      <td>n-I</td>\n",
       "      <td>O</td>\n",
       "      <td>O/1.000000</td>\n",
       "      <td>Bo-B/0.000000</td>\n",
       "      <td>Bo-I/0.000000</td>\n",
       "      <td>Ch-B/0.000000</td>\n",
       "      <td>Ch-I/0.000000</td>\n",
       "      <td>O/1.000000</td>\n",
       "      <td>Si-B/0.000000</td>\n",
       "      <td>Si-I/0.000000</td>\n",
       "      <td>Sy-B/0.000000</td>\n",
       "      <td>Sy-I/0.000000</td>\n",
       "      <td>Tr-B/0.000000</td>\n",
       "      <td>Tr-I/0.000000</td>\n",
       "    </tr>\n",
       "    <tr>\n",
       "      <th>8</th>\n",
       "      <td>化</td>\n",
       "      <td>CHN</td>\n",
       "      <td>n-I</td>\n",
       "      <td>O</td>\n",
       "      <td>O/0.999999</td>\n",
       "      <td>Bo-B/0.000000</td>\n",
       "      <td>Bo-I/0.000000</td>\n",
       "      <td>Ch-B/0.000000</td>\n",
       "      <td>Ch-I/0.000000</td>\n",
       "      <td>O/0.999999</td>\n",
       "      <td>Si-B/0.000000</td>\n",
       "      <td>Si-I/0.000000</td>\n",
       "      <td>Sy-B/0.000000</td>\n",
       "      <td>Sy-I/0.000000</td>\n",
       "      <td>Tr-B/0.000000</td>\n",
       "      <td>Tr-I/0.000000</td>\n",
       "    </tr>\n",
       "    <tr>\n",
       "      <th>9</th>\n",
       "      <td>;</td>\n",
       "      <td>PUNC</td>\n",
       "      <td>x-B</td>\n",
       "      <td>O</td>\n",
       "      <td>O/1.000000</td>\n",
       "      <td>Bo-B/0.000000</td>\n",
       "      <td>Bo-I/0.000000</td>\n",
       "      <td>Ch-B/0.000000</td>\n",
       "      <td>Ch-I/0.000000</td>\n",
       "      <td>O/1.000000</td>\n",
       "      <td>Si-B/0.000000</td>\n",
       "      <td>Si-I/0.000000</td>\n",
       "      <td>Sy-B/0.000000</td>\n",
       "      <td>Sy-I/0.000000</td>\n",
       "      <td>Tr-B/0.000000</td>\n",
       "      <td>Tr-I/0.000000</td>\n",
       "    </tr>\n",
       "  </tbody>\n",
       "</table>\n",
       "</div>"
      ],
      "text/plain": [
       "  _atom basicTag POSTag RTag      Result              0              1  \\\n",
       "0     原      CHN    n-B    O  O/0.999982  Bo-B/0.000002  Bo-I/0.000001   \n",
       "1     发      CHN    n-I    O  O/1.000000  Bo-B/0.000000  Bo-I/0.000000   \n",
       "2     性      CHN    n-I    O  O/1.000000  Bo-B/0.000000  Bo-I/0.000000   \n",
       "3     胆      CHN    n-B    O  O/0.999999  Bo-B/0.000000  Bo-I/0.000000   \n",
       "4     汁      CHN    n-I    O  O/1.000000  Bo-B/0.000000  Bo-I/0.000000   \n",
       "5     性      CHN    n-B    O  O/1.000000  Bo-B/0.000000  Bo-I/0.000000   \n",
       "6     肝      CHN    n-B    O  O/0.999999  Bo-B/0.000000  Bo-I/0.000000   \n",
       "7     硬      CHN    n-I    O  O/1.000000  Bo-B/0.000000  Bo-I/0.000000   \n",
       "8     化      CHN    n-I    O  O/0.999999  Bo-B/0.000000  Bo-I/0.000000   \n",
       "9     ;     PUNC    x-B    O  O/1.000000  Bo-B/0.000000  Bo-I/0.000000   \n",
       "\n",
       "               2              3           4              5              6  \\\n",
       "0  Ch-B/0.000000  Ch-I/0.000000  O/0.999982  Si-B/0.000006  Si-I/0.000001   \n",
       "1  Ch-B/0.000000  Ch-I/0.000000  O/1.000000  Si-B/0.000000  Si-I/0.000000   \n",
       "2  Ch-B/0.000000  Ch-I/0.000000  O/1.000000  Si-B/0.000000  Si-I/0.000000   \n",
       "3  Ch-B/0.000000  Ch-I/0.000000  O/0.999999  Si-B/0.000000  Si-I/0.000000   \n",
       "4  Ch-B/0.000000  Ch-I/0.000000  O/1.000000  Si-B/0.000000  Si-I/0.000000   \n",
       "5  Ch-B/0.000000  Ch-I/0.000000  O/1.000000  Si-B/0.000000  Si-I/0.000000   \n",
       "6  Ch-B/0.000000  Ch-I/0.000000  O/0.999999  Si-B/0.000000  Si-I/0.000000   \n",
       "7  Ch-B/0.000000  Ch-I/0.000000  O/1.000000  Si-B/0.000000  Si-I/0.000000   \n",
       "8  Ch-B/0.000000  Ch-I/0.000000  O/0.999999  Si-B/0.000000  Si-I/0.000000   \n",
       "9  Ch-B/0.000000  Ch-I/0.000000  O/1.000000  Si-B/0.000000  Si-I/0.000000   \n",
       "\n",
       "               7              8              9             10  \n",
       "0  Sy-B/0.000004  Sy-I/0.000001  Tr-B/0.000002  Tr-I/0.000001  \n",
       "1  Sy-B/0.000000  Sy-I/0.000000  Tr-B/0.000000  Tr-I/0.000000  \n",
       "2  Sy-B/0.000000  Sy-I/0.000000  Tr-B/0.000000  Tr-I/0.000000  \n",
       "3  Sy-B/0.000000  Sy-I/0.000000  Tr-B/0.000000  Tr-I/0.000000  \n",
       "4  Sy-B/0.000000  Sy-I/0.000000  Tr-B/0.000000  Tr-I/0.000000  \n",
       "5  Sy-B/0.000000  Sy-I/0.000000  Tr-B/0.000000  Tr-I/0.000000  \n",
       "6  Sy-B/0.000000  Sy-I/0.000000  Tr-B/0.000000  Tr-I/0.000000  \n",
       "7  Sy-B/0.000000  Sy-I/0.000000  Tr-B/0.000000  Tr-I/0.000000  \n",
       "8  Sy-B/0.000000  Sy-I/0.000000  Tr-B/0.000000  Tr-I/0.000000  \n",
       "9  Sy-B/0.000000  Sy-I/0.000000  Tr-B/0.000000  Tr-I/0.000000  "
      ]
     },
     "execution_count": 28,
     "metadata": {},
     "output_type": "execute_result"
    }
   ],
   "source": [
    "result.columns = cct.outputCols + ['Result'] + list(range((len(result.columns)-len(cct.outputCols) -1)))\n",
    "result.head(10)"
   ]
  },
  {
   "cell_type": "code",
   "execution_count": 29,
   "metadata": {},
   "outputs": [
    {
     "data": {
      "text/plain": [
       "[['高脂血症', 21, 24, 'Si'],\n",
       " ['表皮样囊肿', 26, 30, 'Si'],\n",
       " ['皮下脂肪瘤', 56, 60, 'Si'],\n",
       " ['高血压', 69, 71, 'Si'],\n",
       " ['降压药物', 86, 89, 'Tr'],\n",
       " ['右上腹部', 107, 110, 'Bo'],\n",
       " ['全身皮肤', 187, 190, 'Bo'],\n",
       " ['黄染', 192, 193, 'Sy'],\n",
       " ['出血点', 196, 198, 'Bo'],\n",
       " ['肝掌', 202, 203, 'Sy'],\n",
       " ['律齐', 212, 213, 'Sy'],\n",
       " ['病理性杂音', 218, 222, 'Ch'],\n",
       " ['肺', 225, 225, 'Bo'],\n",
       " ['呼吸音', 226, 228, 'Ch'],\n",
       " ['啰音', 236, 237, 'Ch'],\n",
       " ['腹', 239, 239, 'Bo'],\n",
       " ['腹壁', 244, 245, 'Bo'],\n",
       " ['静脉曲张', 246, 249, 'Sy'],\n",
       " ['腹', 274, 274, 'Bo'],\n",
       " ['全腹', 277, 278, 'Bo'],\n",
       " ['压痛', 280, 281, 'Ch'],\n",
       " ['反跳痛', 283, 285, 'Ch'],\n",
       " ['肝脏肋下', 297, 300, 'Bo'],\n",
       " ['脾脏肋下', 304, 307, 'Bo'],\n",
       " ['移动性浊音', 311, 315, 'Ch'],\n",
       " ['肠鸣音', 319, 321, 'Ch'],\n",
       " ['双下肢', 327, 329, 'Bo'],\n",
       " ['水肿', 331, 332, 'Sy']]"
      ]
     },
     "execution_count": 29,
     "metadata": {},
     "output_type": "execute_result"
    }
   ],
   "source": [
    "cct.corpResult(result, 'LearnedETag')\n",
    "cct.getLearnedEntities('LearnedETag')"
   ]
  },
  {
   "cell_type": "markdown",
   "metadata": {},
   "source": [
    "# Pretty Print"
   ]
  },
  {
   "cell_type": "code",
   "execution_count": 30,
   "metadata": {},
   "outputs": [],
   "source": [
    "outputPathFile= 'demo/Tagger/tagger_result.txt'"
   ]
  },
  {
   "cell_type": "code",
   "execution_count": 31,
   "metadata": {},
   "outputs": [],
   "source": [
    "columns = ['E-Name', 'E-Start', 'E-End', 'E-Type']\n",
    "Data = pd.DataFrame(cct.getLearnedEntities('LearnedETag'), columns= columns )\n",
    "Data.to_csv(outputPathFile, sep = '\\t')"
   ]
  },
  {
   "cell_type": "code",
   "execution_count": 32,
   "metadata": {
    "scrolled": true
   },
   "outputs": [
    {
     "data": {
      "text/html": [
       "<div>\n",
       "<style scoped>\n",
       "    .dataframe tbody tr th:only-of-type {\n",
       "        vertical-align: middle;\n",
       "    }\n",
       "\n",
       "    .dataframe tbody tr th {\n",
       "        vertical-align: top;\n",
       "    }\n",
       "\n",
       "    .dataframe thead th {\n",
       "        text-align: right;\n",
       "    }\n",
       "</style>\n",
       "<table border=\"1\" class=\"dataframe\">\n",
       "  <thead>\n",
       "    <tr style=\"text-align: right;\">\n",
       "      <th></th>\n",
       "      <th>E-Name</th>\n",
       "      <th>E-Start</th>\n",
       "      <th>E-End</th>\n",
       "      <th>E-Type</th>\n",
       "    </tr>\n",
       "  </thead>\n",
       "  <tbody>\n",
       "    <tr>\n",
       "      <th>0</th>\n",
       "      <td>高脂血症</td>\n",
       "      <td>21</td>\n",
       "      <td>24</td>\n",
       "      <td>Si</td>\n",
       "    </tr>\n",
       "    <tr>\n",
       "      <th>1</th>\n",
       "      <td>表皮样囊肿</td>\n",
       "      <td>26</td>\n",
       "      <td>30</td>\n",
       "      <td>Si</td>\n",
       "    </tr>\n",
       "    <tr>\n",
       "      <th>2</th>\n",
       "      <td>皮下脂肪瘤</td>\n",
       "      <td>56</td>\n",
       "      <td>60</td>\n",
       "      <td>Si</td>\n",
       "    </tr>\n",
       "    <tr>\n",
       "      <th>3</th>\n",
       "      <td>高血压</td>\n",
       "      <td>69</td>\n",
       "      <td>71</td>\n",
       "      <td>Si</td>\n",
       "    </tr>\n",
       "    <tr>\n",
       "      <th>4</th>\n",
       "      <td>降压药物</td>\n",
       "      <td>86</td>\n",
       "      <td>89</td>\n",
       "      <td>Tr</td>\n",
       "    </tr>\n",
       "  </tbody>\n",
       "</table>\n",
       "</div>"
      ],
      "text/plain": [
       "  E-Name  E-Start  E-End E-Type\n",
       "0   高脂血症       21     24     Si\n",
       "1  表皮样囊肿       26     30     Si\n",
       "2  皮下脂肪瘤       56     60     Si\n",
       "3    高血压       69     71     Si\n",
       "4   降压药物       86     89     Tr"
      ]
     },
     "execution_count": 32,
     "metadata": {},
     "output_type": "execute_result"
    }
   ],
   "source": [
    "Data.head()"
   ]
  },
  {
   "cell_type": "code",
   "execution_count": 33,
   "metadata": {},
   "outputs": [
    {
     "name": "stdout",
     "output_type": "stream",
     "text": [
      "+----+------------+-----------+---------+----------+\n",
      "|    | E-Name     |   E-Start |   E-End | E-Type   |\n",
      "|----+------------+-----------+---------+----------|\n",
      "|  0 | 高脂血症   |        21 |      24 | Si       |\n",
      "|  1 | 表皮样囊肿 |        26 |      30 | Si       |\n",
      "|  2 | 皮下脂肪瘤 |        56 |      60 | Si       |\n",
      "|  3 | 高血压     |        69 |      71 | Si       |\n",
      "|  4 | 降压药物   |        86 |      89 | Tr       |\n",
      "|  5 | 右上腹部   |       107 |     110 | Bo       |\n",
      "|  6 | 全身皮肤   |       187 |     190 | Bo       |\n",
      "|  7 | 黄染       |       192 |     193 | Sy       |\n",
      "|  8 | 出血点     |       196 |     198 | Bo       |\n",
      "|  9 | 肝掌       |       202 |     203 | Sy       |\n",
      "| 10 | 律齐       |       212 |     213 | Sy       |\n",
      "| 11 | 病理性杂音 |       218 |     222 | Ch       |\n",
      "| 12 | 肺         |       225 |     225 | Bo       |\n",
      "| 13 | 呼吸音     |       226 |     228 | Ch       |\n",
      "| 14 | 啰音       |       236 |     237 | Ch       |\n",
      "| 15 | 腹         |       239 |     239 | Bo       |\n",
      "| 16 | 腹壁       |       244 |     245 | Bo       |\n",
      "| 17 | 静脉曲张   |       246 |     249 | Sy       |\n",
      "| 18 | 腹         |       274 |     274 | Bo       |\n",
      "| 19 | 全腹       |       277 |     278 | Bo       |\n",
      "| 20 | 压痛       |       280 |     281 | Ch       |\n",
      "| 21 | 反跳痛     |       283 |     285 | Ch       |\n",
      "| 22 | 肝脏肋下   |       297 |     300 | Bo       |\n",
      "| 23 | 脾脏肋下   |       304 |     307 | Bo       |\n",
      "| 24 | 移动性浊音 |       311 |     315 | Ch       |\n",
      "| 25 | 肠鸣音     |       319 |     321 | Ch       |\n",
      "| 26 | 双下肢     |       327 |     329 | Bo       |\n",
      "| 27 | 水肿       |       331 |     332 | Sy       |\n",
      "+----+------------+-----------+---------+----------+\n"
     ]
    }
   ],
   "source": [
    "from tabulate import tabulate\n",
    "\n",
    "print(tabulate(Data,headers=Data.columns,tablefmt=\"psql\", numalign=\"right\"))"
   ]
  }
 ],
 "metadata": {
  "anaconda-cloud": {},
  "kernelspec": {
   "display_name": "Python 3",
   "language": "python",
   "name": "python3"
  },
  "language_info": {
   "codemirror_mode": {
    "name": "ipython",
    "version": 3
   },
   "file_extension": ".py",
   "mimetype": "text/x-python",
   "name": "python",
   "nbconvert_exporter": "python",
   "pygments_lexer": "ipython3",
   "version": "3.6.4"
  }
 },
 "nbformat": 4,
 "nbformat_minor": 1
}
